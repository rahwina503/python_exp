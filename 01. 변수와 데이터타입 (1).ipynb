{
 "cells": [
  {
   "cell_type": "markdown",
   "metadata": {
    "colab_type": "text",
    "id": "S7ZKYu5MVzXu"
   },
   "source": [
    "## 1. 파이썬, 주피터노트북과 친해지기 \n",
    "### 1-1 주피터 노트북 간단 사용법\n",
    "- 파일 이름 바꾸기\n",
    "- File -> Save as로 사본 저장하기\n",
    "- +버튼을 눌러 셀 추가하고 가위로 오려내기\n",
    "- 위, 아래 화살표키로 셀 위치 이동\n",
    "- Markdown (텍스트 설명)과 Code (Python3 실행) 선택\n",
    "- 셀에서 \"Run\" 클릭하여 결과를 확인할 수 있다. \n",
    "- 자주쓰는 단축키를 사용하면 아주 편리!\n",
    "    - shift+Enter를 누르면 셀 실행 후 아래 셀로 이동하고 ctrl+Enter를 누르면 셀 위치에서 실행하고 alt+Enter는 실행 후 셀이 추가된다.\n",
    "    - ESC 키를 누르고 (cell이 녹색에서 파란색으로 바뀜) \n",
    "        - a키를 누르면 위에 셀이 추가되고,  b키를 누르면 아래에 셀이 추가되고 \n",
    "        - d를 (빠르게) 두번 누르면 셀이 삭제된다. "
   ]
  },
  {
   "cell_type": "markdown",
   "metadata": {
    "colab_type": "text",
    "id": "8Rxkw4d6VzXw"
   },
   "source": [
    "#### [실습1] 아래 Code셀에 1,2, 1+2, 1-2, 1*2, 1/2를 차례로 입력하고 실행하세요.\n",
    "- 힌트: 입력후 Shift-Enter키를 눌러보세요. +버튼을 눌러 셀을 추가할 수 있어요.\n",
    "    - 또는 alt + Enter키를 눌러보세요."
   ]
  },
  {
   "cell_type": "code",
   "execution_count": 11,
   "metadata": {
    "colab": {},
    "colab_type": "code",
    "id": "Ktt22ps1VzXx",
    "scrolled": true
   },
   "outputs": [
    {
     "data": {
      "text/plain": [
       "1"
      ]
     },
     "execution_count": 11,
     "metadata": {},
     "output_type": "execute_result"
    }
   ],
   "source": [
    "5%2"
   ]
  },
  {
   "cell_type": "markdown",
   "metadata": {
    "colab_type": "text",
    "id": "BtLouc58VzX3"
   },
   "source": [
    "#### [실습2] 이번에는 a, 안녕하세요, 'hello',  \"안녕하세요~!\"를 입력하고 실행해보세요.\n",
    "힌트 : 문자는 ' 또는 \"로 감싸주어야 합니다. "
   ]
  },
  {
   "cell_type": "code",
   "execution_count": 12,
   "metadata": {},
   "outputs": [
    {
     "data": {
      "text/plain": [
       "'heppo'"
      ]
     },
     "execution_count": 12,
     "metadata": {},
     "output_type": "execute_result"
    }
   ],
   "source": [
    "'heppo'"
   ]
  },
  {
   "cell_type": "code",
   "execution_count": 15,
   "metadata": {},
   "outputs": [
    {
     "name": "stdout",
     "output_type": "stream",
     "text": [
      "hello\n"
     ]
    }
   ],
   "source": [
    "print('hello')"
   ]
  },
  {
   "cell_type": "code",
   "execution_count": 14,
   "metadata": {},
   "outputs": [
    {
     "name": "stdout",
     "output_type": "stream",
     "text": [
      "hello\n"
     ]
    }
   ],
   "source": [
    "print(\"hello\")"
   ]
  },
  {
   "cell_type": "code",
   "execution_count": 13,
   "metadata": {
    "colab": {},
    "colab_type": "code",
    "id": "BK5DQ3BoVzX4"
   },
   "outputs": [
    {
     "data": {
      "text/plain": [
       "'안녕하세요'"
      ]
     },
     "execution_count": 13,
     "metadata": {},
     "output_type": "execute_result"
    }
   ],
   "source": [
    "\"안녕하세요\""
   ]
  },
  {
   "cell_type": "markdown",
   "metadata": {
    "colab_type": "text",
    "id": "O2iog2DMVzX8"
   },
   "source": [
    "### 1-2. 변수(Variable)란?\n",
    "\n",
    "- 문자와 숫자 등을 저장하는 (메모리) 공간 또는 그릇\n",
    "- 언제든지 변할 수 있는 값을 대입하여 사용\n",
    "\n",
    "#### 변수 표시 방법 : <변수이름 = 값> 예) a = 1\n",
    "\n",
    "- 등호(=, 할당연산자로도 함)를 기준으로 오른쪽의 값을 왼쪽의 변수이름에 대입한다는 의미다.\n",
    "  - 참고로 같다는 표현은 == 을 사용 : a == 1\n",
    "  - a = a+1과 a == a+1의 차이를 이해하자!\n",
    "  \n",
    "- 변수로 쓸 수 있는 이름 : num1, my_name, age, i\n",
    "    - 변수 이름은 남들도 이해하기 쉽게 의미가 통하는 영어 단어로 정하는 것이 좋다.\n",
    "- 변수로 쓸 수 **없는** 이름 : my name, 1num, if(예약어)\n"
   ]
  },
  {
   "cell_type": "markdown",
   "metadata": {
    "colab_type": "text",
    "id": "oR4nF7irVzX9"
   },
   "source": [
    "#### [실습3] 변수 a, b, c에 차례로 1, 2, 1+2를 대입(할당, assign)하고 결과 c를 실행해보세요.\n",
    "- 힌트 : a=1, b=2, c=a+b"
   ]
  },
  {
   "cell_type": "code",
   "execution_count": 17,
   "metadata": {},
   "outputs": [
    {
     "name": "stdout",
     "output_type": "stream",
     "text": [
      "3\n"
     ]
    }
   ],
   "source": [
    "a=1\n",
    "b=2\n",
    "c=a+b\n",
    "print(c)"
   ]
  },
  {
   "cell_type": "markdown",
   "metadata": {
    "colab_type": "text",
    "id": "K5gmHIy-VzX-"
   },
   "source": [
    "#### 주석 처리\n",
    "- 한 라인에서 #를 붙이면 그 뒤부터는 주석으로 처리하여 코드가 실행되지 않는다. 코드 설명을 할 때 주로 사용.\n",
    "- 여러줄을 주석처리하려면 작은따옴표 세개로 묶어준다. 또는 컨트롤키와 /키를 동시에 눌러 묶어줄 수도 있다. "
   ]
  },
  {
   "cell_type": "code",
   "execution_count": null,
   "metadata": {
    "colab": {},
    "colab_type": "code",
    "id": "ZN4QvFebVzX_"
   },
   "outputs": [],
   "source": [
    "#print(1+2)\n",
    "'''print(2+3)\n",
    "print(2+4)'''\n",
    "print(2+5) \n",
    "print(2+6)"
   ]
  },
  {
   "cell_type": "code",
   "execution_count": 18,
   "metadata": {
    "colab": {},
    "colab_type": "code",
    "id": "HtTI5pE-VzYE"
   },
   "outputs": [
    {
     "name": "stdout",
     "output_type": "stream",
     "text": [
      "12\n"
     ]
    }
   ],
   "source": [
    "# print()함수를 이용해서 변수에 들어있는 값을 화면에 출력할 수 있어요.\n",
    "c = 3\n",
    "d = 4\n",
    "e = c * d  \n",
    "print(e)"
   ]
  },
  {
   "cell_type": "code",
   "execution_count": 20,
   "metadata": {
    "colab": {},
    "colab_type": "code",
    "id": "ARbo1J4kVzYJ"
   },
   "outputs": [
    {
     "name": "stdout",
     "output_type": "stream",
     "text": [
      "11 12\n"
     ]
    }
   ],
   "source": [
    "# 변수 이름이나 계산식을 바로 실행할 때와 print()를 사용할 때 차이\n",
    "a = 10\n",
    "a = a +1\n",
    "a\n",
    "\n",
    "b = 10\n",
    "b = b+2\n",
    "b\n",
    "\n",
    "print(a, b)"
   ]
  },
  {
   "cell_type": "code",
   "execution_count": 21,
   "metadata": {
    "colab": {},
    "colab_type": "code",
    "id": "uIumxJCFVzYO"
   },
   "outputs": [
    {
     "name": "stdout",
     "output_type": "stream",
     "text": [
      "Jay\n"
     ]
    }
   ],
   "source": [
    "name = \"Jay\"\n",
    "print (name) #name이란 변수에 담긴 값을 출력하라는 의미"
   ]
  },
  {
   "cell_type": "code",
   "execution_count": 22,
   "metadata": {
    "colab": {},
    "colab_type": "code",
    "id": "Qmo-msDzVzYX"
   },
   "outputs": [
    {
     "name": "stdout",
     "output_type": "stream",
     "text": [
      "name\n"
     ]
    }
   ],
   "source": [
    "print (\"name\") #name이라는 문자를 출력하라는 의미"
   ]
  },
  {
   "cell_type": "code",
   "execution_count": 23,
   "metadata": {
    "colab": {},
    "colab_type": "code",
    "id": "ntJFBa6tVzYd"
   },
   "outputs": [
    {
     "name": "stdout",
     "output_type": "stream",
     "text": [
      "Jay 님은 100 점 입니다\n"
     ]
    }
   ],
   "source": [
    "# print()함수 괄호 안에 변수이름 외에, 숫자, 문자, 계산식 등을 넣어 출력할 수 있어요.\n",
    "score = 100\n",
    "print(name, \"님은\",   score, \"점 입니다\")"
   ]
  },
  {
   "cell_type": "code",
   "execution_count": 30,
   "metadata": {
    "colab": {},
    "colab_type": "code",
    "id": "2sUgzmBlVzYj"
   },
   "outputs": [],
   "source": [
    "#실습\n",
    "true=True\n",
    "#if = 3\n",
    "#Seoul=Seoul\n",
    "#Hello Python=\"Hello Python\"\n"
   ]
  },
  {
   "cell_type": "markdown",
   "metadata": {
    "colab_type": "text",
    "id": "NEe8fyikVzYo"
   },
   "source": [
    "#### 문제1. 다음 중 변수사용이 올바른 것은? \n",
    "1. true = True\n",
    "2. if = 3\n",
    "3. Seoul = Seoul\n",
    "4. Hello Python = \"Hello Python\" "
   ]
  },
  {
   "cell_type": "code",
   "execution_count": 24,
   "metadata": {
    "colab": {},
    "colab_type": "code",
    "id": "6RWSseEIVzYr",
    "scrolled": true
   },
   "outputs": [
    {
     "name": "stdout",
     "output_type": "stream",
     "text": [
      "['False', 'None', 'True', 'and', 'as', 'assert', 'async', 'await', 'break', 'class', 'continue', 'def', 'del', 'elif', 'else', 'except', 'finally', 'for', 'from', 'global', 'if', 'import', 'in', 'is', 'lambda', 'nonlocal', 'not', 'or', 'pass', 'raise', 'return', 'try', 'while', 'with', 'yield']\n"
     ]
    },
    {
     "data": {
      "text/plain": [
       "35"
      ]
     },
     "execution_count": 24,
     "metadata": {},
     "output_type": "execute_result"
    }
   ],
   "source": [
    "# 예약어 확인하기\n",
    "import keyword\n",
    "print (keyword.kwlist)\n",
    "len (keyword.kwlist)"
   ]
  },
  {
   "cell_type": "code",
   "execution_count": 25,
   "metadata": {
    "colab": {},
    "colab_type": "code",
    "id": "tR0BuXUoVzYz"
   },
   "outputs": [
    {
     "name": "stdout",
     "output_type": "stream",
     "text": [
      "The Zen of Python, by Tim Peters\n",
      "\n",
      "Beautiful is better than ugly.\n",
      "Explicit is better than implicit.\n",
      "Simple is better than complex.\n",
      "Complex is better than complicated.\n",
      "Flat is better than nested.\n",
      "Sparse is better than dense.\n",
      "Readability counts.\n",
      "Special cases aren't special enough to break the rules.\n",
      "Although practicality beats purity.\n",
      "Errors should never pass silently.\n",
      "Unless explicitly silenced.\n",
      "In the face of ambiguity, refuse the temptation to guess.\n",
      "There should be one-- and preferably only one --obvious way to do it.\n",
      "Although that way may not be obvious at first unless you're Dutch.\n",
      "Now is better than never.\n",
      "Although never is often better than *right* now.\n",
      "If the implementation is hard to explain, it's a bad idea.\n",
      "If the implementation is easy to explain, it may be a good idea.\n",
      "Namespaces are one honking great idea -- let's do more of those!\n"
     ]
    }
   ],
   "source": [
    "import this # 파이썬의 철학"
   ]
  },
  {
   "cell_type": "markdown",
   "metadata": {
    "colab_type": "text",
    "id": "sPsGYpmKVzY4"
   },
   "source": [
    "### 1-3. 데이터형 Data Type\n",
    "\n",
    "- 정수형  int: -5, 0, 1001\n",
    "- 실수형 float: 3.14, -5.00001\n",
    "- 문자열형 string : \"제이\", 'Gil' -> 이중따옴표 또는 따옴표 모두 사용 가능\n",
    "- 부울형 boolean : True와 False -> 주의! 항상 대문자로 표시\n",
    "- 그 외 리스트, 튜플, 사전 등이 있다. "
   ]
  },
  {
   "cell_type": "code",
   "execution_count": 32,
   "metadata": {
    "colab": {},
    "colab_type": "code",
    "id": "mKc8B5SxVzY5"
   },
   "outputs": [
    {
     "name": "stdout",
     "output_type": "stream",
     "text": [
      "300\n"
     ]
    }
   ],
   "source": [
    "#정수형\n",
    "price = 100\n",
    "price = price * 3\n",
    "print(price)"
   ]
  },
  {
   "cell_type": "code",
   "execution_count": 33,
   "metadata": {
    "colab": {},
    "colab_type": "code",
    "id": "AncYAQb6VzY-"
   },
   "outputs": [
    {
     "name": "stdout",
     "output_type": "stream",
     "text": [
      "400\n"
     ]
    }
   ],
   "source": [
    "price = price + 100\n",
    "print (price)"
   ]
  },
  {
   "cell_type": "code",
   "execution_count": 34,
   "metadata": {
    "colab": {},
    "colab_type": "code",
    "id": "U1KA-PAeVzZB"
   },
   "outputs": [
    {
     "name": "stdout",
     "output_type": "stream",
     "text": [
      "4000\n"
     ]
    }
   ],
   "source": [
    "print (price * 10)"
   ]
  },
  {
   "cell_type": "markdown",
   "metadata": {
    "colab_type": "text",
    "id": "GoS8b4RtVzZH"
   },
   "source": [
    "# 문제2) 다음 코드의 실행 결과는 무엇일까요? \n",
    "price1 = 10.5 <br>\n",
    "price * 3"
   ]
  },
  {
   "cell_type": "code",
   "execution_count": 37,
   "metadata": {},
   "outputs": [
    {
     "name": "stdout",
     "output_type": "stream",
     "text": [
      "10.5 400\n"
     ]
    }
   ],
   "source": [
    "price1=10.5\n",
    "price*3\n",
    "\n",
    "\n",
    "print(price1, price)"
   ]
  },
  {
   "cell_type": "code",
   "execution_count": null,
   "metadata": {
    "colab": {},
    "colab_type": "code",
    "id": "6Zo4ocPdVzZI"
   },
   "outputs": [],
   "source": [
    "price1 = 10.5\n",
    "price1 * 3 "
   ]
  },
  {
   "cell_type": "code",
   "execution_count": null,
   "metadata": {
    "colab": {},
    "colab_type": "code",
    "id": "xTWOSjaKVzZL"
   },
   "outputs": [],
   "source": [
    "print(price*price1) # 400 *10.5 "
   ]
  },
  {
   "cell_type": "code",
   "execution_count": 38,
   "metadata": {
    "colab": {},
    "colab_type": "code",
    "id": "YMopheOxVzZR"
   },
   "outputs": [
    {
     "data": {
      "text/plain": [
       "int"
      ]
     },
     "execution_count": 38,
     "metadata": {},
     "output_type": "execute_result"
    }
   ],
   "source": [
    "#type()를 활용하여 변수의 데이터형을 확인해볼 수 있다.\n",
    "type(price)"
   ]
  },
  {
   "cell_type": "code",
   "execution_count": 39,
   "metadata": {
    "colab": {},
    "colab_type": "code",
    "id": "V8GaqLjEVzZU"
   },
   "outputs": [
    {
     "data": {
      "text/plain": [
       "float"
      ]
     },
     "execution_count": 39,
     "metadata": {},
     "output_type": "execute_result"
    }
   ],
   "source": [
    "type(price1)"
   ]
  },
  {
   "cell_type": "code",
   "execution_count": 40,
   "metadata": {
    "colab": {},
    "colab_type": "code",
    "id": "93F90fHYVzZX"
   },
   "outputs": [
    {
     "name": "stdout",
     "output_type": "stream",
     "text": [
      "HelloHelloHello\n"
     ]
    }
   ],
   "source": [
    "#문자열에 숫자를 곱하면 곱한 수만큼 반복된다. \n",
    "hello = \"Hello\"\n",
    "print (hello*3)"
   ]
  },
  {
   "cell_type": "code",
   "execution_count": 41,
   "metadata": {
    "colab": {},
    "colab_type": "code",
    "id": "YARuBeAcVzZa"
   },
   "outputs": [
    {
     "name": "stdout",
     "output_type": "stream",
     "text": [
      "****************************************************************************************************\n"
     ]
    }
   ],
   "source": [
    "star=\"*\"\n",
    "print (star*100)"
   ]
  },
  {
   "cell_type": "code",
   "execution_count": 43,
   "metadata": {
    "colab": {},
    "colab_type": "code",
    "id": "UAGzXVmaVzZe"
   },
   "outputs": [
    {
     "name": "stdout",
     "output_type": "stream",
     "text": [
      "나는 20살 입니다.\n"
     ]
    }
   ],
   "source": [
    "# 문자열은 문자열끼리만 더할 수 있다.\n",
    "\n",
    "s1 = \"나는 \"  \n",
    "s2 = '살 입니다.' \n",
    "s3 = s1 + \"20\" + s2 \n",
    "print(s3) "
   ]
  },
  {
   "cell_type": "markdown",
   "metadata": {
    "colab_type": "text",
    "id": "NM-9Z0EmVzZg"
   },
   "source": [
    "#### [실습4] 변수 name에 \"Kay\", 변수 score에 50을 넣은 후, print()를 이용하여 아래 문장을 출력해보세요. \n",
    "\n",
    "Kay님의 점수는 50점입니다.\n",
    "\n",
    "- 힌트\n",
    "  - name = \"Kay\", score = 50 \n",
    "  - print()함수 안에 변수와 문자열을 ,를 써서 구분하거나 \n",
    "  -> (name,\"님의 점수는\",score,\"점입니다.\")\n",
    "  - 문자열 + 연산을 통해 할 수 있다. "
   ]
  },
  {
   "cell_type": "code",
   "execution_count": 44,
   "metadata": {
    "colab": {},
    "colab_type": "code",
    "id": "Ls4Dv6jOVzZh"
   },
   "outputs": [
    {
     "name": "stdout",
     "output_type": "stream",
     "text": [
      "\n"
     ]
    }
   ],
   "source": [
    "name =\"Kay\" \n",
    "score=\"50\"\n",
    "print()"
   ]
  },
  {
   "cell_type": "code",
   "execution_count": 46,
   "metadata": {},
   "outputs": [
    {
     "name": "stdout",
     "output_type": "stream",
     "text": [
      "kay 님의 점수는 50 입니다\n"
     ]
    }
   ],
   "source": [
    "name=\"kay\"\n",
    "score=\"50\"\n",
    "print(name,\"님의 점수는\",score,\"입니다\")"
   ]
  },
  {
   "cell_type": "markdown",
   "metadata": {
    "colab_type": "text",
    "id": "8Co1g7bXVzZk"
   },
   "source": [
    "#### input() 함수\n",
    "- print()함수가 화면에 출력하는 명령어라면, input()함수는 화면에 입력할 수 있게 해준다."
   ]
  },
  {
   "cell_type": "code",
   "execution_count": 47,
   "metadata": {
    "colab": {},
    "colab_type": "code",
    "id": "VcT1p-Z6VzZk"
   },
   "outputs": [
    {
     "name": "stdout",
     "output_type": "stream",
     "text": [
      "123ㅇㅇ\n"
     ]
    },
    {
     "data": {
      "text/plain": [
       "'ㅇㅇ'"
      ]
     },
     "execution_count": 47,
     "metadata": {},
     "output_type": "execute_result"
    }
   ],
   "source": [
    "input(123) # 임의의 숫자와 문자를 입력해보세요."
   ]
  },
  {
   "cell_type": "markdown",
   "metadata": {
    "colab_type": "text",
    "id": "nZUlQewjVzZq"
   },
   "source": [
    "#### [실습5] 아래 코드를 실행하면 오류가 발생합니다. 어떻게 고칠 수 있을까요?\n",
    "\n",
    "birth_year = input(\"당신이 태어난 년도: \") <br>\n",
    "age = 2020 - birth_year <br>\n",
    "print (\"당신의 나이는:\", age)<br>\n",
    "\n",
    "- 힌트 : birth_year값을 int형 자료로 바꿔주어여야 연산이 가능합니다. \n",
    "  - 방법1. int(input(\"당신이 태어난 년도는: \")) -> 입력받을 때 정수형으로 바꾸기\n",
    "  - 방법2. age = 2020 - int(birth_year) -> 계산할 때 정수형으로 바꾸기\n"
   ]
  },
  {
   "cell_type": "code",
   "execution_count": 53,
   "metadata": {
    "colab": {},
    "colab_type": "code",
    "id": "asRG3YLXVzZr"
   },
   "outputs": [
    {
     "name": "stdout",
     "output_type": "stream",
     "text": [
      "당신이 태어난 년도: 1982\n",
      "당신의 나이는: 38\n"
     ]
    },
    {
     "data": {
      "text/plain": [
       "(int, int)"
      ]
     },
     "execution_count": 53,
     "metadata": {},
     "output_type": "execute_result"
    }
   ],
   "source": [
    "birth_year = int(input(\"당신이 태어난 년도: \"))\n",
    "age = 2020 - birth_year\n",
    "print (\"당신의 나이는:\", age)\n",
    "type(birth_year),type(age)"
   ]
  },
  {
   "cell_type": "code",
   "execution_count": 54,
   "metadata": {},
   "outputs": [
    {
     "name": "stdout",
     "output_type": "stream",
     "text": [
      "당신이 태어난 년도: 1982\n",
      "당신의 나이는: 38\n"
     ]
    },
    {
     "data": {
      "text/plain": [
       "(str, int)"
      ]
     },
     "execution_count": 54,
     "metadata": {},
     "output_type": "execute_result"
    }
   ],
   "source": [
    "birth_year = input(\"당신이 태어난 년도: \")\n",
    "age = 2020 - int(birth_year)\n",
    "print (\"당신의 나이는:\", age)\n",
    "type(birth_year),type(age)"
   ]
  },
  {
   "cell_type": "code",
   "execution_count": null,
   "metadata": {
    "colab": {},
    "colab_type": "code",
    "id": "HMoNwVrNVzZw"
   },
   "outputs": [],
   "source": [
    "# type(age), type(birth_year)로 확인해보세요."
   ]
  },
  {
   "cell_type": "code",
   "execution_count": null,
   "metadata": {
    "colab": {},
    "colab_type": "code",
    "id": "EEdptPHhVzZ0"
   },
   "outputs": [],
   "source": [
    "type()"
   ]
  },
  {
   "cell_type": "markdown",
   "metadata": {
    "colab_type": "text",
    "id": "aYIBrvKjVzZ4"
   },
   "source": [
    "#### 수고하셨습니다. 직접 연습을 많이 해보시기 바랍니다. "
   ]
  },
  {
   "cell_type": "code",
   "execution_count": null,
   "metadata": {
    "colab": {},
    "colab_type": "code",
    "id": "Mvmm0pf1VzZ4"
   },
   "outputs": [],
   "source": []
  }
 ],
 "metadata": {
  "colab": {
   "name": "01. 변수와 데이터타입.ipynb",
   "provenance": []
  },
  "kernelspec": {
   "display_name": "Python 3",
   "language": "python",
   "name": "python3"
  },
  "language_info": {
   "codemirror_mode": {
    "name": "ipython",
    "version": 3
   },
   "file_extension": ".py",
   "mimetype": "text/x-python",
   "name": "python",
   "nbconvert_exporter": "python",
   "pygments_lexer": "ipython3",
   "version": "3.7.6"
  }
 },
 "nbformat": 4,
 "nbformat_minor": 1
}
