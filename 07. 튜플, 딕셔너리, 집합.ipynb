{
 "cells": [
  {
   "cell_type": "markdown",
   "metadata": {},
   "source": [
    "##  7. 튜플, 딕셔너리, 집합\n",
    "### 7-1. 튜플 Tuple\n",
    "- 튜플은 변경 불가능한 리스트로 ()로 표현한다.    \n",
    "- 문자열, 리스트와 마찬가지로 인덱싱, 슬라이싱, 더하기, 곱하기, in, len() 등이 가능하다.\n",
    "  - 더하기는 <튜플 +튜플>만 가능"
   ]
  },
  {
   "cell_type": "code",
   "execution_count": null,
   "metadata": {},
   "outputs": [],
   "source": [
    "mama12= ('화사', '문별', 1,2) #다른 데이터형 저장 가능\n",
    "print(type(mama12))"
   ]
  },
  {
   "cell_type": "code",
   "execution_count": null,
   "metadata": {},
   "outputs": [],
   "source": [
    "# 튜플은 아이템을 변경할 수 없다. \n",
    "mama12[0] = '휘인' "
   ]
  },
  {
   "cell_type": "code",
   "execution_count": null,
   "metadata": {},
   "outputs": [],
   "source": [
    "# 문자열, 리스트와 마찬가지로 인덱싱, 슬라이싱, 더하기, 곱하기, in, len() 등이 가능하다.\n",
    "mama12= ('화사', '문별', 1,2)\n",
    "print (mama12[3])\n",
    "print (mama12[:2])\n",
    "print (mama12 + ('휘인', '솔라'))\n",
    "print (1 in mama12)\n",
    "print (len(mama12))"
   ]
  },
  {
   "cell_type": "markdown",
   "metadata": {},
   "source": [
    "### 7-2. 사전 dictionary\n",
    "\n",
    "-  key와 value가 한 쌍인 item들로 구성, {} 중괄호로 표현\n",
    "- 예) fruit = {'애플':'Apple', '바나나':'banana', '수박':'watermelon'}  ."
   ]
  },
  {
   "cell_type": "code",
   "execution_count": null,
   "metadata": {
    "scrolled": true
   },
   "outputs": [],
   "source": [
    "me = {\"이름\":\"Jay\", \"나이\":40, \"키\":181.4, \"email\":'jaygil@gmail.com'}\n",
    "print(type(me))\n",
    "print(len(me))                           #아이템 갯수"
   ]
  },
  {
   "cell_type": "code",
   "execution_count": null,
   "metadata": {},
   "outputs": [],
   "source": [
    "print(me['키'])                          #해당 키에 해당하는 value를 출력"
   ]
  },
  {
   "cell_type": "code",
   "execution_count": null,
   "metadata": {},
   "outputs": [],
   "source": [
    "me[0]  #인덱스로 접근할 수는 없다. "
   ]
  },
  {
   "cell_type": "code",
   "execution_count": null,
   "metadata": {},
   "outputs": [],
   "source": [
    "print (\"나이\" in me) #해당 Key 존재여부 확인\n",
    "print (\"Jay\" in me) #\"Jay\"은 key가 아니다.                       "
   ]
  },
  {
   "cell_type": "code",
   "execution_count": null,
   "metadata": {},
   "outputs": [],
   "source": [
    "me = {\"이름\":\"Jay\", \"나이\":40, \"키\":181.4, \"email\":'jaygil@gmail.com'}\n",
    "me ['전공'] = \"독어독문학\"           #해당 key 추가\n",
    "print(me)"
   ]
  },
  {
   "cell_type": "code",
   "execution_count": null,
   "metadata": {},
   "outputs": [],
   "source": [
    "me ['전공'] = '컴퓨터공학'\n",
    "print(me)"
   ]
  },
  {
   "cell_type": "code",
   "execution_count": null,
   "metadata": {},
   "outputs": [],
   "source": [
    "dir(dict)"
   ]
  },
  {
   "cell_type": "code",
   "execution_count": null,
   "metadata": {},
   "outputs": [],
   "source": [
    "me.keys()"
   ]
  },
  {
   "cell_type": "code",
   "execution_count": null,
   "metadata": {},
   "outputs": [],
   "source": [
    "# 키값들을 리스트로 만들 수 있다.\n",
    "list(me.keys())"
   ]
  },
  {
   "cell_type": "markdown",
   "metadata": {},
   "source": [
    "#### [실습1] 'values'와 'items'함수를 이용하여 me의 밸류와 아이템을 알아본 후 각각 me_values, me_items란 변수에 담아 출력해보세요\n",
    "- 힌트 : me.values(), me.items() 사용"
   ]
  },
  {
   "cell_type": "code",
   "execution_count": null,
   "metadata": {},
   "outputs": [],
   "source": []
  },
  {
   "cell_type": "code",
   "execution_count": null,
   "metadata": {},
   "outputs": [],
   "source": []
  },
  {
   "cell_type": "code",
   "execution_count": null,
   "metadata": {},
   "outputs": [],
   "source": [
    "help(dict.pop)"
   ]
  },
  {
   "cell_type": "code",
   "execution_count": null,
   "metadata": {},
   "outputs": [],
   "source": [
    "me.pop('나이')                    #해당 인덱스 삭제\n",
    "me"
   ]
  },
  {
   "cell_type": "code",
   "execution_count": null,
   "metadata": {},
   "outputs": [],
   "source": [
    "me.clear()\n",
    "me"
   ]
  },
  {
   "cell_type": "code",
   "execution_count": null,
   "metadata": {},
   "outputs": [],
   "source": [
    "a = {1:\"미국\", 30:\"그리스\", 81:\"일본\", 82:\"한국\"}\n",
    "b = {\"미국\":1, \"그리스\":30, \"일본\":81, \"한국\":82}"
   ]
  },
  {
   "cell_type": "code",
   "execution_count": null,
   "metadata": {},
   "outputs": [],
   "source": [
    "print(a.keys())\n",
    "print(b.keys())"
   ]
  },
  {
   "cell_type": "code",
   "execution_count": null,
   "metadata": {},
   "outputs": [],
   "source": [
    "a.values()"
   ]
  },
  {
   "cell_type": "markdown",
   "metadata": {},
   "source": [
    "### 7-3. 집합(set)\n",
    "\n",
    "- 중복을 허용하지 않는다.\n",
    "- 순서가 없다.\n",
    "- 교집합(&), 합집합(|), 차집합(-)\n",
    "- .add (값 1개 추가), .update (리스트로 여러 개 값 추가), .remove(특정값 제거)"
   ]
  },
  {
   "cell_type": "code",
   "execution_count": null,
   "metadata": {},
   "outputs": [],
   "source": [
    "set1 = {1, 2, 3} #집합 만드는 법1\n",
    "print(type(set1))"
   ]
  },
  {
   "cell_type": "code",
   "execution_count": null,
   "metadata": {},
   "outputs": [],
   "source": [
    "set2 = set([3,4,5]) #집합 만드는 법2\n",
    "print(type(s))"
   ]
  },
  {
   "cell_type": "code",
   "execution_count": null,
   "metadata": {},
   "outputs": [],
   "source": [
    "set3 = {1,2,3,4,4,3,2,1} #중복 허용 안함\n",
    "print(set3)"
   ]
  },
  {
   "cell_type": "code",
   "execution_count": null,
   "metadata": {},
   "outputs": [],
   "source": [
    "1 in set1           # 소속 확인"
   ]
  },
  {
   "cell_type": "code",
   "execution_count": null,
   "metadata": {},
   "outputs": [],
   "source": [
    "set1 & set2"
   ]
  },
  {
   "cell_type": "code",
   "execution_count": null,
   "metadata": {},
   "outputs": [],
   "source": [
    "set1 | set2"
   ]
  },
  {
   "cell_type": "code",
   "execution_count": null,
   "metadata": {},
   "outputs": [],
   "source": [
    "set1 - set2"
   ]
  },
  {
   "cell_type": "code",
   "execution_count": null,
   "metadata": {},
   "outputs": [],
   "source": [
    "set1 + set2"
   ]
  },
  {
   "cell_type": "code",
   "execution_count": null,
   "metadata": {},
   "outputs": [],
   "source": [
    "name = {\"길\", \"완\", \"제\"}"
   ]
  },
  {
   "cell_type": "code",
   "execution_count": null,
   "metadata": {},
   "outputs": [],
   "source": [
    "name.add(\"님\")  #님을 추가. 리스트의 .append와 비슷...단, 순서는 없다.\n",
    "name"
   ]
  },
  {
   "cell_type": "code",
   "execution_count": null,
   "metadata": {},
   "outputs": [],
   "source": [
    "name.remove(\"님\")\n",
    "name"
   ]
  },
  {
   "cell_type": "code",
   "execution_count": null,
   "metadata": {},
   "outputs": [],
   "source": [
    "name.update([\"바\", \"보\"])\n",
    "name"
   ]
  },
  {
   "cell_type": "code",
   "execution_count": null,
   "metadata": {},
   "outputs": [],
   "source": [
    "수고하셨습니다."
   ]
  },
  {
   "cell_type": "code",
   "execution_count": null,
   "metadata": {},
   "outputs": [],
   "source": []
  }
 ],
 "metadata": {
  "kernelspec": {
   "display_name": "Python 3",
   "language": "python",
   "name": "python3"
  },
  "language_info": {
   "codemirror_mode": {
    "name": "ipython",
    "version": 3
   },
   "file_extension": ".py",
   "mimetype": "text/x-python",
   "name": "python",
   "nbconvert_exporter": "python",
   "pygments_lexer": "ipython3",
   "version": "3.7.4"
  }
 },
 "nbformat": 4,
 "nbformat_minor": 2
}
