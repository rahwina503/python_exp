{
 "cells": [
  {
   "cell_type": "markdown",
   "metadata": {},
   "source": [
    "#### True와 False\n",
    "- 대문자로 시작하는 것에 주의\n",
    "- 옳고 그름을 판단\n",
    "- 있으면 True, 없으면 False\n",
    "- True는 1, False는 0"
   ]
  },
  {
   "cell_type": "code",
   "execution_count": null,
   "metadata": {},
   "outputs": [],
   "source": [
    "# True와 False\n",
    "a = 1000\n",
    "a == 1000"
   ]
  },
  {
   "cell_type": "code",
   "execution_count": null,
   "metadata": {},
   "outputs": [],
   "source": [
    "true = True \n",
    "true"
   ]
  },
  {
   "cell_type": "code",
   "execution_count": null,
   "metadata": {},
   "outputs": [],
   "source": [
    "true == 1  #true가 True이고(위의 셀에서 할당) True는 1과 같다는 뜻"
   ]
  },
  {
   "cell_type": "code",
   "execution_count": null,
   "metadata": {},
   "outputs": [],
   "source": [
    "True == 1 # True는 1과 같다"
   ]
  },
  {
   "cell_type": "code",
   "execution_count": null,
   "metadata": {
    "scrolled": true
   },
   "outputs": [],
   "source": [
    "b = False\n",
    "print(b)"
   ]
  },
  {
   "cell_type": "code",
   "execution_count": null,
   "metadata": {
    "scrolled": true
   },
   "outputs": [],
   "source": [
    "False == 0"
   ]
  },
  {
   "cell_type": "code",
   "execution_count": null,
   "metadata": {},
   "outputs": [],
   "source": [
    "b ='false'\n",
    "print(b)"
   ]
  },
  {
   "cell_type": "code",
   "execution_count": null,
   "metadata": {},
   "outputs": [],
   "source": [
    "20<30"
   ]
  },
  {
   "cell_type": "code",
   "execution_count": null,
   "metadata": {},
   "outputs": [],
   "source": [
    "bool('')"
   ]
  },
  {
   "cell_type": "code",
   "execution_count": null,
   "metadata": {},
   "outputs": [],
   "source": [
    "bool (20<30)"
   ]
  },
  {
   "cell_type": "code",
   "execution_count": null,
   "metadata": {},
   "outputs": [],
   "source": [
    "bool (0) # 0일 때만 False. 다른 숫자나 문자를 넣어보세요. "
   ]
  },
  {
   "cell_type": "code",
   "execution_count": null,
   "metadata": {},
   "outputs": [],
   "source": [
    "bool (\"False\")"
   ]
  },
  {
   "cell_type": "markdown",
   "metadata": {},
   "source": [
    "## 2. 연산자 : 산술, 관계, 논리 \n",
    "\n",
    "### 2-1. 산술연산자 \n",
    "\n",
    "- 더하기 + \n",
    "- 빼기 -\n",
    "- 곱하기 *\n",
    "- 나누기 /\n",
    "- **몫 //**\n",
    "- **나머지 %**\n",
    "- **제곱 ****\n",
    "\n",
    "#### 연산자 축약\n",
    "\n",
    "- a = a + 1  -> a += 1\n",
    "- a = a - 1  -> a -= 1\n",
    "- a = a * 1  -> a *= 1\n",
    "- a = a / 1  -> a /= 1"
   ]
  },
  {
   "cell_type": "markdown",
   "metadata": {},
   "source": [
    "#### [실습1] a = 5, b = 3일 때, 1) 몫 2)나머지 3) a의 3제곱한 결과를 실행해보세요.\n",
    "- 힌트 : print (a // b), print (a%b), print (a**3)"
   ]
  },
  {
   "cell_type": "code",
   "execution_count": null,
   "metadata": {},
   "outputs": [],
   "source": [
    "a = 5\n",
    "b = 3"
   ]
  },
  {
   "cell_type": "markdown",
   "metadata": {},
   "source": [
    "#### [실습2] mx란 변수에 2,4,6,8의 평균값을 구하여 대입하고 출력해보세요.\n",
    "- 힌트 : (2+4+6+8) / 4"
   ]
  },
  {
   "cell_type": "code",
   "execution_count": null,
   "metadata": {},
   "outputs": [],
   "source": [
    "mx = (2+4+6+8) / 4\n",
    "mx"
   ]
  },
  {
   "cell_type": "markdown",
   "metadata": {},
   "source": [
    "#### [실습3] c = 10, d = 15일 때, 1) c에 5를 더한 값과 2) d에 3을 나눈 값을 축약식을 이용해 출력해보세요.\n",
    "- 힌트 c += 5, c /= 3 \n",
    "- print (c), print (d) "
   ]
  },
  {
   "cell_type": "code",
   "execution_count": null,
   "metadata": {},
   "outputs": [],
   "source": [
    "c=10\n",
    "d=15\n",
    "c+=5\n",
    "print(c)\n",
    "\n",
    "d /= 3\n",
    "print(d)"
   ]
  },
  {
   "cell_type": "markdown",
   "metadata": {},
   "source": [
    "### 2-2. 관계 연산자\n",
    "\n",
    "- 작다 a < b         \n",
    "- 크다 a > b          \n",
    "- 작거나 같다 <=\n",
    "- 크거나 같다 >=\n",
    "- 같다 ==\n",
    "- 같지 않다 !=\n",
    "\n",
    "### 2-3. 논리 연산자\n",
    "- 아니다 not\n",
    "- ~이고 ~ 이면 (둘다 참) and\n",
    "- ~이거나 ~이면 (둘 중 하나만 참) or"
   ]
  },
  {
   "cell_type": "code",
   "execution_count": null,
   "metadata": {},
   "outputs": [],
   "source": [
    "print (5>3)"
   ]
  },
  {
   "cell_type": "code",
   "execution_count": null,
   "metadata": {},
   "outputs": [],
   "source": [
    "print (5%2==1)"
   ]
  },
  {
   "cell_type": "code",
   "execution_count": null,
   "metadata": {},
   "outputs": [],
   "source": [
    "print (4//2==2 and 2>1)"
   ]
  },
  {
   "cell_type": "markdown",
   "metadata": {},
   "source": [
    "#### 문제1) 다음 문제의 결과값은 무엇일까요?\n",
    "- 1.not(3<5) or 3!=5  \n",
    "- 2.\"big\" > \"small\"\n"
   ]
  },
  {
   "cell_type": "code",
   "execution_count": null,
   "metadata": {},
   "outputs": [],
   "source": [
    "not(3<5) or 3!=5  "
   ]
  },
  {
   "cell_type": "code",
   "execution_count": null,
   "metadata": {},
   "outputs": [],
   "source": [
    "#  문자열의 대소는 ascii코드 숫자 크기로 비교 \n",
    "\"big\" > \"small\"  #b가 s보다 작은 숫자이기 때문에 거짓"
   ]
  },
  {
   "cell_type": "code",
   "execution_count": null,
   "metadata": {},
   "outputs": [],
   "source": [
    "print(\"A\" > \"a\")\n",
    "print(\"abc\">\"abcd\")"
   ]
  },
  {
   "cell_type": "code",
   "execution_count": null,
   "metadata": {},
   "outputs": [],
   "source": [
    "len(\"big\")"
   ]
  },
  {
   "cell_type": "code",
   "execution_count": null,
   "metadata": {},
   "outputs": [],
   "source": [
    "a = len(\"small\")\n",
    "print(a)"
   ]
  },
  {
   "cell_type": "code",
   "execution_count": null,
   "metadata": {},
   "outputs": [],
   "source": []
  }
 ],
 "metadata": {
  "kernelspec": {
   "display_name": "Python 3",
   "language": "python",
   "name": "python3"
  },
  "language_info": {
   "codemirror_mode": {
    "name": "ipython",
    "version": 3
   },
   "file_extension": ".py",
   "mimetype": "text/x-python",
   "name": "python",
   "nbconvert_exporter": "python",
   "pygments_lexer": "ipython3",
   "version": "3.7.6"
  }
 },
 "nbformat": 4,
 "nbformat_minor": 2
}
