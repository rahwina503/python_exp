{
  "nbformat": 4,
  "nbformat_minor": 0,
  "metadata": {
    "kernelspec": {
      "display_name": "Python 3",
      "language": "python",
      "name": "python3"
    },
    "language_info": {
      "codemirror_mode": {
        "name": "ipython",
        "version": 3
      },
      "file_extension": ".py",
      "mimetype": "text/x-python",
      "name": "python",
      "nbconvert_exporter": "python",
      "pygments_lexer": "ipython3",
      "version": "3.7.4"
    },
    "colab": {
      "name": "05. 문자열.ipynb의 사본",
      "provenance": []
    }
  },
  "cells": [
    {
      "cell_type": "markdown",
      "metadata": {
        "id": "fXewAN_fFC-K",
        "colab_type": "text"
      },
      "source": [
        "## 5. 문자열\n",
        "- 문자를 큰따옴표 \"\" 또는 작은따옴표 ''를 사용하여 표현\n",
        "- 인덱싱, 슬라이싱, +와 * 연산, in, len()을 list와 같은 방식으로 사용"
      ]
    },
    {
      "cell_type": "code",
      "metadata": {
        "id": "zSVzRKetFC-M",
        "colab_type": "code",
        "colab": {}
      },
      "source": [
        "a = \"Black Pink\"\n",
        "a[1]"
      ],
      "execution_count": null,
      "outputs": []
    },
    {
      "cell_type": "code",
      "metadata": {
        "id": "H0VevXEBFC-T",
        "colab_type": "code",
        "colab": {}
      },
      "source": [
        "a[0:5] #0이상 5미만"
      ],
      "execution_count": null,
      "outputs": []
    },
    {
      "cell_type": "code",
      "metadata": {
        "id": "0cNmDYiFFC-Y",
        "colab_type": "code",
        "colab": {}
      },
      "source": [
        "a[-5:-2]"
      ],
      "execution_count": null,
      "outputs": []
    },
    {
      "cell_type": "code",
      "metadata": {
        "id": "GjynJ3dEFC-c",
        "colab_type": "code",
        "colab": {}
      },
      "source": [
        "b = \"love\"\n",
        "a+b"
      ],
      "execution_count": null,
      "outputs": []
    },
    {
      "cell_type": "code",
      "metadata": {
        "id": "geJ_B0c5FC-g",
        "colab_type": "code",
        "colab": {}
      },
      "source": [
        "a*3"
      ],
      "execution_count": null,
      "outputs": []
    },
    {
      "cell_type": "code",
      "metadata": {
        "id": "PtUvPdy9FC-l",
        "colab_type": "code",
        "colab": {}
      },
      "source": [
        "len(a)"
      ],
      "execution_count": null,
      "outputs": []
    },
    {
      "cell_type": "code",
      "metadata": {
        "id": "XoiwAiQqFC-p",
        "colab_type": "code",
        "colab": {}
      },
      "source": [
        "# in\n",
        "\"a\" in \"Black\""
      ],
      "execution_count": null,
      "outputs": []
    },
    {
      "cell_type": "code",
      "metadata": {
        "id": "ay6ZilBxFC-u",
        "colab_type": "code",
        "colab": {}
      },
      "source": [
        "\"b\" in \"Black Pink\""
      ],
      "execution_count": null,
      "outputs": []
    },
    {
      "cell_type": "code",
      "metadata": {
        "id": "XWdp_yXgFC-0",
        "colab_type": "code",
        "colab": {}
      },
      "source": [
        "dir(str)"
      ],
      "execution_count": null,
      "outputs": []
    },
    {
      "cell_type": "code",
      "metadata": {
        "id": "IKc_dHHTFC-4",
        "colab_type": "code",
        "colab": {}
      },
      "source": [
        "#.upper() 대문자로 바꿔줌 #.lower는 소문자로 바꿔줌\n",
        "a = \"black pink\"\n",
        "c = a.upper()\n",
        "print(c)"
      ],
      "execution_count": null,
      "outputs": []
    },
    {
      "cell_type": "code",
      "metadata": {
        "id": "UPPPBrEqFC-8",
        "colab_type": "code",
        "colab": {}
      },
      "source": [
        "#.split은 단어(띄어쓰기) 단위로 만들어 줌\n",
        "print (a.split())"
      ],
      "execution_count": null,
      "outputs": []
    },
    {
      "cell_type": "markdown",
      "metadata": {
        "id": "vl2vSXVvFC_A",
        "colab_type": "text"
      },
      "source": [
        "#### [실습1] 문자열 aa= \"123,456,789, 안녕\"을  만들고 쉼표(,)를 기준으로 문자열을 분리하여 보세요.\n",
        "- 힌트 : split(',')  . "
      ]
    },
    {
      "cell_type": "code",
      "metadata": {
        "id": "ayv_P-3gFC_C",
        "colab_type": "code",
        "colab": {}
      },
      "source": [
        "phone_no = \"010-9099-8755\"\n",
        "temp = phone_no.split('-')\n",
        "temp"
      ],
      "execution_count": null,
      "outputs": []
    },
    {
      "cell_type": "code",
      "metadata": {
        "id": "f2LYcStYFC_H",
        "colab_type": "code",
        "colab": {}
      },
      "source": [
        "birth_year = \"71.10.22\"\n",
        "temp1 = birth_year.split('.')\n",
        "temp1"
      ],
      "execution_count": null,
      "outputs": []
    },
    {
      "cell_type": "code",
      "metadata": {
        "id": "qSWk4VhDFC_N",
        "colab_type": "code",
        "colab": {}
      },
      "source": [
        "#list()는 문자열을 리스트로 만들어 줌\n",
        "e = list(phone_no)\n",
        "print (e)"
      ],
      "execution_count": null,
      "outputs": []
    },
    {
      "cell_type": "markdown",
      "metadata": {
        "id": "LRXqxINjFC_S",
        "colab_type": "text"
      },
      "source": [
        "### %와 .format, 이스케이프 (/)를 활용한 문자열 출력\n",
        "\n",
        "#### print (\"%d\"  % 100)와 같은 형식\n",
        "\n",
        "- %d : 정수에 대응\n",
        "- %f : 실수에 대응\n",
        "  - %.3f : 소수 셋째짜리까지 출력 \n",
        "- %c : 문자나 기호 한 개에 대응\n",
        "- %s : 문자열에 대응\n",
        "- %% : %를 표시\n",
        "\n",
        "#### print (안녕!\\\\n파이썬)과 같은 형식\n",
        "- \\n : Enter 키\n",
        "- \\t : Tab 키\n",
        "- \\b : Backspace 키\n",
        "- \\\\\\ : \\출력\n",
        "- \\\\': '출력\n",
        "- \\\\\" : \"출력\n",
        "\n",
        "#### format활용\n",
        "\n",
        "- {}를 쓰고 .format 뒤에 ()괄호 안에 {}에 들어갈 값을 적는다.\n"
      ]
    },
    {
      "cell_type": "code",
      "metadata": {
        "id": "eNSzYKMnFC_T",
        "colab_type": "code",
        "colab": {}
      },
      "source": [
        "print (100)\n",
        "print (123.456789)\n",
        "print (\"안녕하세요\")\n",
        "print (100+300)\n",
        "print (100*1.1)"
      ],
      "execution_count": null,
      "outputs": []
    },
    {
      "cell_type": "code",
      "metadata": {
        "id": "h1nIAxoIFC_X",
        "colab_type": "code",
        "colab": {}
      },
      "source": [
        "print (\"%d\" % 100)"
      ],
      "execution_count": null,
      "outputs": []
    },
    {
      "cell_type": "code",
      "metadata": {
        "id": "E-cYJnioFC_c",
        "colab_type": "code",
        "colab": {}
      },
      "source": [
        "print (\"%d\" % 100.123)"
      ],
      "execution_count": null,
      "outputs": []
    },
    {
      "cell_type": "code",
      "metadata": {
        "id": "o1b9gIb7FC_g",
        "colab_type": "code",
        "colab": {}
      },
      "source": [
        "a = 123.456789\n",
        "print(\"%f\" % a)\n",
        "print (\"%.3f\" % a)"
      ],
      "execution_count": null,
      "outputs": []
    },
    {
      "cell_type": "code",
      "metadata": {
        "id": "dmkpwiarFC_l",
        "colab_type": "code",
        "colab": {}
      },
      "source": [
        "b= \"안녕하세요\"\n",
        "print (\"%s\" % b)"
      ],
      "execution_count": null,
      "outputs": []
    },
    {
      "cell_type": "code",
      "metadata": {
        "id": "vmoRVP6WFC_s",
        "colab_type": "code",
        "colab": {}
      },
      "source": [
        "print (\"나는 오늘 %d번 밥을 먹었습니다. 지금 %s이 먹고 싶어요\" % (3, \"밥\"))"
      ],
      "execution_count": null,
      "outputs": []
    },
    {
      "cell_type": "code",
      "metadata": {
        "id": "wJnM5ijFFC_y",
        "colab_type": "code",
        "colab": {}
      },
      "source": [
        "# 다음 코드를 변수를 활용해 완성해보세요.\n",
        "time = 2\n",
        "food = \"chicken\"\n",
        "print (\"나는 오늘 %d번 밥을 먹었습니다. 지금 %s이 먹고 싶어요\" % )"
      ],
      "execution_count": null,
      "outputs": []
    },
    {
      "cell_type": "code",
      "metadata": {
        "id": "6nuBE1ooFC_3",
        "colab_type": "code",
        "colab": {}
      },
      "source": [
        "# 10 나누기 3 = 3.333이 출력되도록 %를 활용해 코드를 작성해보세요. 아래 코드 수정하기.\n",
        "\n",
        "print (\"%d 나누기 %d = %f % (10, 3, 10/3)"
      ],
      "execution_count": null,
      "outputs": []
    },
    {
      "cell_type": "code",
      "metadata": {
        "id": "iDzOwdWYFC_9",
        "colab_type": "code",
        "colab": {}
      },
      "source": [
        "#역슬래시\\를 활용한 출력문 실습\n",
        "print (\"한 칸 띄고\\n또 한 칸 띄고\")"
      ],
      "execution_count": null,
      "outputs": []
    },
    {
      "cell_type": "code",
      "metadata": {
        "id": "QKlhv6VLFDAD",
        "colab_type": "code",
        "colab": {}
      },
      "source": [
        "#\"\"\\출력\n",
        "print (\"\\\"안녕\\\", 반가워\")"
      ],
      "execution_count": null,
      "outputs": []
    },
    {
      "cell_type": "markdown",
      "metadata": {
        "id": "d3auDp6tFDAI",
        "colab_type": "text"
      },
      "source": [
        "#### [실습2] 비가 올 확률은 90%입니다를 %를 써서 코드를 작성해보세요.\n",
        "힌트 : \"%d%%\" % 98"
      ]
    },
    {
      "cell_type": "code",
      "metadata": {
        "id": "oxbXKge6FDAM",
        "colab_type": "code",
        "colab": {}
      },
      "source": [
        "print (\"비가 올 확률은 \" )"
      ],
      "execution_count": null,
      "outputs": []
    },
    {
      "cell_type": "code",
      "metadata": {
        "id": "uCi7EsHoFDAT",
        "colab_type": "code",
        "colab": {}
      },
      "source": [
        "#,end=''\n",
        "print (\"안녕\", end='') \n",
        "print (\" 친구야\")"
      ],
      "execution_count": null,
      "outputs": []
    },
    {
      "cell_type": "code",
      "metadata": {
        "id": "yApyYC7XFDAY",
        "colab_type": "code",
        "colab": {}
      },
      "source": [
        "print (\"안녕\", '', end='') \n",
        "print (\"친구야\")"
      ],
      "execution_count": null,
      "outputs": []
    },
    {
      "cell_type": "code",
      "metadata": {
        "scrolled": true,
        "id": "WzSwV_69FDAe",
        "colab_type": "code",
        "colab": {}
      },
      "source": [
        "print(\"안녕하세요. 제 이름은 {}이고, 올해 {}살입니다.\" .format(\"길완제\", 49))"
      ],
      "execution_count": null,
      "outputs": []
    },
    {
      "cell_type": "code",
      "metadata": {
        "scrolled": true,
        "id": "tTUAau5JFDAj",
        "colab_type": "code",
        "colab": {}
      },
      "source": [
        "print(\"안녕하세요. 제 이름은 {0}이고, 올해 {1}살입니다.\" .format(\"길완제\", 49)) \n",
        "#0과 1을 바꿔보세요."
      ],
      "execution_count": null,
      "outputs": []
    },
    {
      "cell_type": "code",
      "metadata": {
        "id": "FypoXrIsFDAn",
        "colab_type": "code",
        "colab": {}
      },
      "source": [
        "print(\"안녕하세요. 제 이름은 {name}이고, 올해 {age}살입니다.\" .format(name=\"길완제\", age=49))"
      ],
      "execution_count": null,
      "outputs": []
    },
    {
      "cell_type": "code",
      "metadata": {
        "id": "xvieBWqvFDAw",
        "colab_type": "code",
        "colab": {}
      },
      "source": [
        "print(\"안녕하세요. 제 이름은 {name}이고, 올해 {age}살입니다.\" .format(age=49, name=\"길완제\"))"
      ],
      "execution_count": null,
      "outputs": []
    },
    {
      "cell_type": "code",
      "metadata": {
        "id": "nQEcN57KFDA1",
        "colab_type": "code",
        "colab": {}
      },
      "source": [
        ""
      ],
      "execution_count": null,
      "outputs": []
    }
  ]
}