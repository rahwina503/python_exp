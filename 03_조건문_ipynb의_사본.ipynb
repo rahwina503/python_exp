{
 "cells": [
  {
   "cell_type": "markdown",
   "metadata": {
    "colab_type": "text",
    "id": "sRGVfMKVij3S"
   },
   "source": [
    "## 3. 조건문\n",
    "### 3-1. if 조건문 만드는 조건\n",
    "\n",
    "   \n",
    "1. if 뒤에 조건이 나오고 콜론(:)으로 끝나야 한다.\n",
    "2. 그 다음 줄에 조건이 참일 때 실행할 명령문이 나온다.\n",
    "3. 실행할 명령문은 반드시 들여쓰기를 해야한다.\n",
    "4. 명령문이 여러 줄일 때 들여쓰기 간격이 같아야 한다."
   ]
  },
  {
   "cell_type": "markdown",
   "metadata": {
    "colab_type": "text",
    "id": "q9Ra1mcMij3U"
   },
   "source": [
    "if 조건식 :\n",
    "    실행할 명령문(1)\n",
    "    실행할 명령문(2)"
   ]
  },
  {
   "cell_type": "code",
   "execution_count": null,
   "metadata": {
    "colab": {},
    "colab_type": "code",
    "id": "4zZ1Fcu9ij3V"
   },
   "outputs": [],
   "source": [
    "x=4\n",
    "if x%2 == 0 :\n",
    "    print (x, \"는 짝수입니다.\")"
   ]
  },
  {
   "cell_type": "code",
   "execution_count": null,
   "metadata": {
    "colab": {},
    "colab_type": "code",
    "id": "qc7dIi8Jij3c"
   },
   "outputs": [],
   "source": [
    "x = 3\n",
    "if x%2 == 0 :\n",
    "    print (x, \"는 짝수입니다.\")#조건이 거짓이여서 실행안됨."
   ]
  },
  {
   "cell_type": "code",
   "execution_count": null,
   "metadata": {
    "colab": {},
    "colab_type": "code",
    "id": "txikLiUBij3i"
   },
   "outputs": [],
   "source": [
    "x = 3\n",
    "if x % 2 == 0 :\n",
    "    print (x, \"는 짝수입니다.\")#조건이 거짓이여서 실행안됨.\n",
    "print (\"수고하셨습니다.\")"
   ]
  },
  {
   "cell_type": "code",
   "execution_count": null,
   "metadata": {
    "colab": {},
    "colab_type": "code",
    "id": "R6el10emij3p"
   },
   "outputs": [],
   "source": [
    "x = 4\n",
    "if x%2 == 0 :\n",
    "    print (x, \"는 짝수입니다.\")\n",
    "    print (\"수고하셨습니다.\")"
   ]
  },
  {
   "cell_type": "code",
   "execution_count": null,
   "metadata": {
    "colab": {},
    "colab_type": "code",
    "id": "S1O0oleVij3t"
   },
   "outputs": [],
   "source": [
    "x = 4\n",
    "if x%2 == 0 :\n",
    "    print (x, \"는 짝수입니다.\")\n",
    " print (\"수고하셨습니다.\") #들여쓰기 간격이 같아야한다."
   ]
  },
  {
   "cell_type": "code",
   "execution_count": null,
   "metadata": {
    "colab": {},
    "colab_type": "code",
    "id": "QIhJjcHiij3z"
   },
   "outputs": [],
   "source": [
    "x = 7\n",
    "if x%2 == 0 :\n",
    "    print (x, \"는 짝수입니다.\")\n",
    "if x%2 !=0 :\n",
    "    print (x, \"는 홀수입니다.\")"
   ]
  },
  {
   "cell_type": "markdown",
   "metadata": {
    "colab_type": "text",
    "id": "ANzU-Nxaij32"
   },
   "source": [
    "### 3-2. if~else 문\n",
    "- if 조건이 거짓일 때 else 아래 명령문을 실행한다.\n",
    "- else 뒤에는 조건이 붙지 않고 콜론(:)만 쓴다."
   ]
  },
  {
   "cell_type": "code",
   "execution_count": null,
   "metadata": {
    "colab": {},
    "colab_type": "code",
    "id": "NUBvbaEpij33"
   },
   "outputs": [],
   "source": [
    "# if~else문\n",
    "x = 6\n",
    "if x%2 == 0 :\n",
    "    print (x,\"는 짝수입니다.\")\n",
    "else :\n",
    "    print (x,\"는 홀수입니다.\")"
   ]
  },
  {
   "cell_type": "markdown",
   "metadata": {
    "colab_type": "text",
    "id": "8bH6MjI7ij38"
   },
   "source": [
    "#### [실습1] 아래 코드를 실행하면 오류가 발생합니다. 정수형을 입력받도록 수정해보세요. \n",
    "- 힌트 : int(input())으로 수정하여, 정수로만 입력받도록 합니다.\n",
    "- 그런데, 원하는 결과가 나오나요?"
   ]
  },
  {
   "cell_type": "code",
   "execution_count": null,
   "metadata": {
    "colab": {},
    "colab_type": "code",
    "id": "2zpJ-8n3ij39"
   },
   "outputs": [],
   "source": [
    "#실습1. 점수를 입력받아 90점 이상은 A, 80점 이상은 B, 70점 이상은 C, 그 외는 모두 D를 출력한다.  \n",
    "\n",
    "score = int(input(\"당신의 점수는: \"))  #정수로만 입력받도록 수정\n",
    "\n",
    "if score >= 90 :\n",
    "    print (\"A\")\n",
    "if score >= 80 :\n",
    "    print (\"B\")\n",
    "if score >= 70 :\n",
    "    print (\"C\")\n",
    "if score < 70 :\n",
    "    print (\"D\")"
   ]
  },
  {
   "cell_type": "markdown",
   "metadata": {
    "colab_type": "text",
    "id": "i9GaoaV8ij4B"
   },
   "source": [
    "#### [실습2]  90점 이상일 때 A만 출력되도록 코드를 수정해보세요. \n",
    "- 힌트 : B가 출력되는 조건은 score>=80 and score <90 : 또는 80 <= score < 90 :"
   ]
  },
  {
   "cell_type": "code",
   "execution_count": 6,
   "metadata": {
    "colab": {
     "base_uri": "https://localhost:8080/",
     "height": 129
    },
    "colab_type": "code",
    "id": "U0oenYYUij4C",
    "outputId": "3929ab37-69ad-4d70-d284-96414d4d95b7"
   },
   "outputs": [
    {
     "ename": "SyntaxError",
     "evalue": "invalid syntax (<ipython-input-6-767e285b834f>, line 4)",
     "output_type": "error",
     "traceback": [
      "\u001b[1;36m  File \u001b[1;32m\"<ipython-input-6-767e285b834f>\"\u001b[1;36m, line \u001b[1;32m4\u001b[0m\n\u001b[1;33m    if score >= 90:\u001b[0m\n\u001b[1;37m                  ^\u001b[0m\n\u001b[1;31mSyntaxError\u001b[0m\u001b[1;31m:\u001b[0m invalid syntax\n"
     ]
    }
   ],
   "source": [
    "# 90점 이상일 때 A만 출력되고, 80점 이상일 때 B만 출력되고, 70점 이상일 때 C만 출력되게 코드 수정\n",
    "\n",
    "score = int(input(\"당신의 점수는: \")\n",
    "if score >= 90:\n",
    "   print (\"A\")\n",
    "if score>=80 and score<90:\n",
    "    print (\"B\")\n",
    "if 70 <= score < 80 : \n",
    "    print (\"C\")\n",
    "if score < 70 :\n",
    "    print (D)"
   ]
  },
  {
   "cell_type": "markdown",
   "metadata": {
    "colab_type": "text",
    "id": "ouHaHfMKij4G"
   },
   "source": [
    "### 3-3. if~ elif~ else문\n",
    "- 조건이 여러 개일 때 if 다음에 elif를 쓴다. (else if를 줄여서 쓴 말로 '아니고 만약'의 뜻)\n",
    "- elif 조건은 앞에 있는 조건이 거짓인 것을 전제로 한다.\n",
    "- elif는 여러 개 쓸 수 있고, 차례로 모든 조건이 거짓일 때 else를 써서 끝난다. "
   ]
  },
  {
   "cell_type": "markdown",
   "metadata": {
    "colab_type": "text",
    "id": "lsClkh1Cij4H"
   },
   "source": [
    "#### [실습3]  elif와 else를 사용하여 코드를 완성해보세요. \n",
    "- 힌트 : B가 출력되는 조건 elif score >= 80 : C가 출력되는 조건 elif score >=70 : D가 출력되는 조건 else :  "
   ]
  },
  {
   "cell_type": "code",
   "execution_count": null,
   "metadata": {
    "colab": {},
    "colab_type": "code",
    "id": "_ZfRj0csij4H"
   },
   "outputs": [],
   "source": [
    "#연습. 위 코드에서 두번째, 세번째 조건문을 한번에 쓰는 걸로 수정해보세요!"
   ]
  },
  {
   "cell_type": "code",
   "execution_count": 10,
   "metadata": {
    "colab": {},
    "colab_type": "code",
    "id": "DR_LMghaij4O"
   },
   "outputs": [
    {
     "name": "stdout",
     "output_type": "stream",
     "text": [
      "점수는: 67\n",
      "D\n"
     ]
    }
   ],
   "source": [
    "score = int(input(\"점수는: \"))\n",
    "\n",
    "if score >= 90 :\n",
    "    print (\"A\")\n",
    "elif score >= 80:\n",
    "    print (\"B\")\n",
    "elif score >= 70 :\n",
    "    print (\"C\")\n",
    "else :\n",
    "    print (\"D\")"
   ]
  },
  {
   "cell_type": "code",
   "execution_count": 11,
   "metadata": {
    "colab": {},
    "colab_type": "code",
    "id": "wzg7wFrxij4S"
   },
   "outputs": [
    {
     "name": "stdout",
     "output_type": "stream",
     "text": [
      "a과목 점수는: 90\n",
      "b과목 점수는: 80\n",
      "c과목 점수는: 70\n",
      "평균은  80.0 이고, 과락도 없어 합격입니다\n"
     ]
    }
   ],
   "source": [
    "# 연습. 자격증 합격여부 결정하는 코드 작성\n",
    "# a,b,c 세 과목의 점수 평균이 60점 이상이고 모든 과목이 40점 이상이어야 합격입니다.\n",
    "# 그렇지 않고 평균이 60점이상이면 과락이 있어 불합격입니다.   \n",
    "\n",
    "a = float(input(\"a과목 점수는: \"))\n",
    "b = float(input(\"b과목 점수는: \"))\n",
    "c = float(input(\"c과목 점수는: \"))\n",
    "\n",
    "avg = (a+b+c)/3\n",
    "if avg >= 60 and a>=40 and b>=40 and c>=40 :                          # 평균 60점 이상, 모든 과목 40점 이상\n",
    "    print (\"평균은 \", avg, \"이고, 과락도 없어 합격입니다\")\n",
    "\n",
    "else :                                                               # 불합격이면\n",
    "    if avg>=60 :                                                     # 불합격이지만, 평균이 60 이상인 경우\n",
    "        print (\"평균은 \",avg, \"이나 과락이 있어 불합격입니다\")\n",
    "    else :                                                           # 불합격이고, 평균이 60 미만인 겨우 \n",
    "        print (\"평균은 \", avg, \"라서 불합격입니다.\")"
   ]
  },
  {
   "cell_type": "code",
   "execution_count": 12,
   "metadata": {
    "colab": {},
    "colab_type": "code",
    "id": "Wb726nxqij4V"
   },
   "outputs": [
    {
     "name": "stdout",
     "output_type": "stream",
     "text": [
      "a과목 점수는: 90\n",
      "b과목 점수는: 80\n",
      "c과목 점수는: 70\n",
      "평균은  80.0 이며, 과락과목도 없기 때문에 합격입니다\n"
     ]
    }
   ],
   "source": [
    "# 다르게 생각하는 방법도 있습니다. \n",
    "# 평균이 60점이상일 경우, 만약 어느 과목 중 하나라도 40점 미만이면 과락이 있어 불합격이고, \n",
    "# 과락이 없으면 합격입니다.\n",
    "# 그 외 경우는 불합격\n",
    "\n",
    "\n",
    "a = float(input(\"a과목 점수는: \"))\n",
    "b = float(input(\"b과목 점수는: \"))\n",
    "c = float(input(\"c과목 점수는: \"))\n",
    "\n",
    "avg = (a+b+c) /3\n",
    "\n",
    "if avg >= 60:\n",
    "    if a < 40 or b < 40 or c < 40:\n",
    "        print(\"평균은 \", avg, \"이지만 40점 미만 과락이 있어서, 불합격입니다\")\n",
    "    else:\n",
    "        print(\"평균은 \", avg, \"이며, 과락과목도 없기 때문에 합격입니다\")\n",
    "else:\n",
    "    print(\"평균은 \", avg, \"이며, 불합격입니다\")"
   ]
  },
  {
   "cell_type": "code",
   "execution_count": null,
   "metadata": {
    "colab": {},
    "colab_type": "code",
    "id": "qHAE-JzPij4Y"
   },
   "outputs": [],
   "source": []
  },
  {
   "cell_type": "code",
   "execution_count": null,
   "metadata": {},
   "outputs": [],
   "source": []
  },
  {
   "cell_type": "code",
   "execution_count": null,
   "metadata": {},
   "outputs": [],
   "source": []
  },
  {
   "cell_type": "code",
   "execution_count": null,
   "metadata": {},
   "outputs": [],
   "source": []
  }
 ],
 "metadata": {
  "colab": {
   "collapsed_sections": [],
   "name": "03. 조건문.ipynb의 사본",
   "provenance": []
  },
  "kernelspec": {
   "display_name": "Python 3",
   "language": "python",
   "name": "python3"
  },
  "language_info": {
   "codemirror_mode": {
    "name": "ipython",
    "version": 3
   },
   "file_extension": ".py",
   "mimetype": "text/x-python",
   "name": "python",
   "nbconvert_exporter": "python",
   "pygments_lexer": "ipython3",
   "version": "3.7.6"
  }
 },
 "nbformat": 4,
 "nbformat_minor": 1
}
