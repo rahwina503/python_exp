{
 "cells": [
  {
   "cell_type": "markdown",
   "metadata": {},
   "source": [
    "## 8. 함수\n",
    "\n",
    "1. 함수를 쓰는 이유 : 반복되는 부분을 모듈화하여 고치기 쉽고, 관리하기 편하고, 가독성을 높이기 위해!\n",
    "2. 함수의 종류 : 1) 내장 함수 (예, print(), input(), int(), range(), len().... 2) 사용자 정의함수\n",
    "3. 함수 정의하기 \n",
    "  - def 다음에 함수명을 쓰고 () 뒤에 콜론: -> ()안에 매개변수parameter를 넣을 수도 있다.  **def 함수명 () : 또는 def 함수명 (a, b) :**\n",
    "  - 조건, 반복 같은 제어문과 마찬가지로 들여쓰기 후 실행할 명령문을 적는다. **print(\"안녕하세요\") 또는 c = a + b**\n",
    "  - return 뒤에 함수 호출시 돌려줄(가져갈) 값을 적는다. (return 생략 가능) **return c**\n",
    "4.  함수 호출하기 : 함수명을 적거나 함수명에 들어갈 매개변수 자리에 '인수'를 넣는다. **함수명() 또는 함수명 (10, 20)**"
   ]
  },
  {
   "cell_type": "markdown",
   "metadata": {},
   "source": [
    "#### 내장함수 알아보기\n",
    "https://docs.python.org/3.5/library/functions.html\n",
    "![builtinfunction](builtinfun.png)"
   ]
  },
  {
   "cell_type": "code",
   "execution_count": 5,
   "metadata": {},
   "outputs": [
    {
     "data": {
      "text/plain": [
       "tuple"
      ]
     },
     "execution_count": 5,
     "metadata": {},
     "output_type": "execute_result"
    }
   ],
   "source": [
    "# 주요 내장함수 사용법\n",
    "type((1,2,3,4))"
   ]
  },
  {
   "cell_type": "code",
   "execution_count": 6,
   "metadata": {},
   "outputs": [
    {
     "name": "stdout",
     "output_type": "stream",
     "text": [
      "[1, 2, 3, 4]\n"
     ]
    }
   ],
   "source": [
    "a = (1,2,3,4)\n",
    "b = list(a)\n",
    "print(b)\n",
    "# print (b)로 확인"
   ]
  },
  {
   "cell_type": "code",
   "execution_count": 7,
   "metadata": {},
   "outputs": [
    {
     "data": {
      "text/plain": [
       "list"
      ]
     },
     "execution_count": 7,
     "metadata": {},
     "output_type": "execute_result"
    }
   ],
   "source": [
    "type (b)"
   ]
  },
  {
   "cell_type": "code",
   "execution_count": 12,
   "metadata": {},
   "outputs": [
    {
     "ename": "TypeError",
     "evalue": "unsupported operand type(s) for +: 'int' and 'str'",
     "output_type": "error",
     "traceback": [
      "\u001b[1;31m---------------------------------------------------------------------------\u001b[0m",
      "\u001b[1;31mTypeError\u001b[0m                                 Traceback (most recent call last)",
      "\u001b[1;32m<ipython-input-12-7fea7f3b8d58>\u001b[0m in \u001b[0;36m<module>\u001b[1;34m\u001b[0m\n\u001b[0;32m      1\u001b[0m \u001b[0mc\u001b[0m \u001b[1;33m=\u001b[0m \u001b[1;36m100\u001b[0m \u001b[1;31m# 문자로 인식해줘야 함.\u001b[0m\u001b[1;33m\u001b[0m\u001b[1;33m\u001b[0m\u001b[0m\n\u001b[0;32m      2\u001b[0m \u001b[0md\u001b[0m \u001b[1;33m=\u001b[0m \u001b[1;34m\"안녕\"\u001b[0m\u001b[1;33m\u001b[0m\u001b[1;33m\u001b[0m\u001b[0m\n\u001b[1;32m----> 3\u001b[1;33m \u001b[0mc\u001b[0m \u001b[1;33m+\u001b[0m \u001b[0md\u001b[0m\u001b[1;33m\u001b[0m\u001b[1;33m\u001b[0m\u001b[0m\n\u001b[0m",
      "\u001b[1;31mTypeError\u001b[0m: unsupported operand type(s) for +: 'int' and 'str'"
     ]
    }
   ],
   "source": [
    "c = 100 # 문자로 인식해줘야 함.\n",
    "d = \"안녕\"\n",
    "c + d"
   ]
  },
  {
   "cell_type": "code",
   "execution_count": 13,
   "metadata": {},
   "outputs": [
    {
     "data": {
      "text/plain": [
       "'100안녕'"
      ]
     },
     "execution_count": 13,
     "metadata": {},
     "output_type": "execute_result"
    }
   ],
   "source": [
    "c = str(100)\n",
    "d = \"안녕\"\n",
    "c + d"
   ]
  },
  {
   "cell_type": "code",
   "execution_count": 14,
   "metadata": {},
   "outputs": [],
   "source": [
    "# 매개변수와 return이 없는 함수\n",
    "def 저는 ():\n",
    "    print(\"이름은 %s입니다.\" % 'Jay Gil')\n",
    "    print (\"배우기 위해 가르칩니다.\")\n",
    "    print (\"인간을 이해하기 위해 인공지능에 대해 관심을 갖고 공부하고 있습니다.\")"
   ]
  },
  {
   "cell_type": "code",
   "execution_count": 15,
   "metadata": {},
   "outputs": [
    {
     "name": "stdout",
     "output_type": "stream",
     "text": [
      "이름은 Jay Gil입니다.\n",
      "배우기 위해 가르칩니다.\n",
      "인간을 이해하기 위해 인공지능에 대해 관심을 갖고 공부하고 있습니다.\n"
     ]
    }
   ],
   "source": [
    "저는()"
   ]
  },
  {
   "cell_type": "code",
   "execution_count": 16,
   "metadata": {},
   "outputs": [
    {
     "name": "stdout",
     "output_type": "stream",
     "text": [
      "저를 소개하겠습니다. \n",
      "이름은 Jay Gil입니다.\n",
      "배우기 위해 가르칩니다.\n",
      "인간을 이해하기 위해 인공지능에 대해 관심을 갖고 공부하고 있습니다.\n",
      "----- 더 궁금하신 사항은 언제든지 물어봐주세요.\n"
     ]
    }
   ],
   "source": [
    "print(\"저를 소개하겠습니다. \")\n",
    "저는 ()\n",
    "print(\"-\"*5, \"더 궁금하신 사항은 언제든지 물어봐주세요.\")"
   ]
  },
  {
   "cell_type": "code",
   "execution_count": 18,
   "metadata": {},
   "outputs": [],
   "source": [
    "# 매개변수가 하나 있는 함수\n",
    "def hate_repeat (something):\n",
    "    print(something)\n",
    "    print (something)\n",
    "\n",
    "#hate_repeat (\"나는 같은 말 두 번 안해!!\")"
   ]
  },
  {
   "cell_type": "code",
   "execution_count": 19,
   "metadata": {},
   "outputs": [
    {
     "name": "stdout",
     "output_type": "stream",
     "text": [
      "나는 같은 말 두 번 안해!!\n",
      "나는 같은 말 두 번 안해!!\n"
     ]
    }
   ],
   "source": [
    "hate_repeat(\"나는 같은 말 두 번 안해!!\")"
   ]
  },
  {
   "cell_type": "markdown",
   "metadata": {},
   "source": [
    "#### [실습1] 변수 a = \"Thank you\"를 만들어 hate_repeat 함수의 인자에 a를 3번 반복하는 식을 넣어 실행해보세요.\n",
    "- 힌트 hate_repeat (a*3)"
   ]
  },
  {
   "cell_type": "code",
   "execution_count": 23,
   "metadata": {},
   "outputs": [
    {
     "name": "stdout",
     "output_type": "stream",
     "text": [
      "Thank you\n",
      "Thank you\n"
     ]
    }
   ],
   "source": [
    "a = \"Thank you\"\n",
    "hate_repeat (a)"
   ]
  },
  {
   "cell_type": "code",
   "execution_count": 24,
   "metadata": {},
   "outputs": [
    {
     "name": "stdout",
     "output_type": "stream",
     "text": [
      "Thank youThank youThank you\n"
     ]
    }
   ],
   "source": [
    "a = \"Thank you\"\n",
    "def hate_repeat (a): #함수 정의\n",
    "    print(a)\n",
    "    \n",
    "hate_repeat(a*3)\n",
    "\n",
    "# 매개변수가 2개 있는 더하기 함수 만들기 "
   ]
  },
  {
   "cell_type": "code",
   "execution_count": 25,
   "metadata": {},
   "outputs": [
    {
     "name": "stdout",
     "output_type": "stream",
     "text": [
      "Thank youThank youThank you\n"
     ]
    }
   ],
   "source": [
    "a=\"Thank you\"\n",
    "def hate_repeat(a):\n",
    "    print(a)\n",
    "    \n",
    "b=a*3\n",
    "hate_repeat(b)"
   ]
  },
  {
   "cell_type": "code",
   "execution_count": 26,
   "metadata": {},
   "outputs": [],
   "source": [
    "def 더하기 (n1, n2) : #두 수를 더하기 위해 매개변수  n1, n2 사용\n",
    "    sum1 = n1 + n2     #함수의 기능\n",
    "    return sum1"
   ]
  },
  {
   "cell_type": "code",
   "execution_count": 29,
   "metadata": {},
   "outputs": [
    {
     "data": {
      "text/plain": [
       "50"
      ]
     },
     "execution_count": 29,
     "metadata": {},
     "output_type": "execute_result"
    }
   ],
   "source": [
    "# 더하기 함수 실행하기\n",
    "더하기 (20, 30)  # 함수명을 적으면 호출된다. 20과 30를 인자라고 한다."
   ]
  },
  {
   "cell_type": "code",
   "execution_count": 30,
   "metadata": {},
   "outputs": [
    {
     "name": "stdout",
     "output_type": "stream",
     "text": [
      "3\n"
     ]
    }
   ],
   "source": [
    "# 보통 변수에 함수값을 넣어 실행한다.\n",
    "result = 더하기 (1,2)\n",
    "print (result)"
   ]
  },
  {
   "cell_type": "code",
   "execution_count": 31,
   "metadata": {},
   "outputs": [
    {
     "name": "stdout",
     "output_type": "stream",
     "text": [
      "46.0\n"
     ]
    }
   ],
   "source": [
    "x=[2, 4, 6, 8]\n",
    "y=[81, 93, 91, 97]\n",
    "\n",
    "# x와 y의 평균값\n",
    "mx = (2+4+6+8)/4\n",
    "my = (81+93+91+97)/4\n",
    "\n",
    "# (x-x평균)(y-y평균)의 합을 함수로 만들어보세요.\n",
    "\n",
    "def top(x, mx, y, my):\n",
    "    d = 0\n",
    "    for i in range(4):\n",
    "        d=d + (x[i] - mx) * (y[i] - my)\n",
    "    return d\n",
    "dividend = top(x, mx, y, my)\n",
    "print (dividend)"
   ]
  },
  {
   "cell_type": "code",
   "execution_count": 38,
   "metadata": {},
   "outputs": [
    {
     "name": "stdout",
     "output_type": "stream",
     "text": [
      "Jay 방가\n",
      "Jay 방가\n",
      "Jay 방가\n",
      "Jay 방가\n",
      "Jay 방가\n",
      "Jay 방가\n",
      "Jay 방가\n",
      "Jay 방가\n",
      "Jay 방가\n",
      "Jay 방가\n"
     ]
    }
   ],
   "source": [
    "#default parameter\n",
    "\n",
    "def greet (name, hello=2) : #기본값 디폴드.\n",
    "    for i in range(hello):\n",
    "        print (name,\"방가\")\n",
    "        \n",
    "greet (\"Jay\",10)\n",
    "#greet (\"Jay\", 3)"
   ]
  },
  {
   "cell_type": "code",
   "execution_count": 52,
   "metadata": {},
   "outputs": [
    {
     "name": "stdout",
     "output_type": "stream",
     "text": [
      "I Love You\n",
      "I Love You\n",
      "I Love You\n",
      "\n"
     ]
    }
   ],
   "source": [
    "a=\"I Love You\\n\"\n",
    "def love_repeat(a):\n",
    "    print(a)\n",
    "love_repeat(a*3)"
   ]
  },
  {
   "cell_type": "code",
   "execution_count": 69,
   "metadata": {},
   "outputs": [
    {
     "name": "stdout",
     "output_type": "stream",
     "text": [
      "알고 싶은 구구단을 입력해주세요.3\n",
      "3 단입니다.\n",
      "\n",
      "3 * 1 = 3\n",
      "3 * 2 = 6\n",
      "3 * 3 = 9\n",
      "3 * 4 = 12\n",
      "3 * 5 = 15\n",
      "3 * 6 = 18\n",
      "3 * 7 = 21\n",
      "3 * 8 = 24\n",
      "3 * 9 = 27\n"
     ]
    }
   ],
   "source": [
    "def gugudan (i):\n",
    "    for j in range(1,10,1):\n",
    "        a=i*j\n",
    "        print(i,\"*\",j,\"=\",a)\n",
    "\n",
    "i=int(input(\"알고 싶은 구구단을 입력해주세요.\"))\n",
    "print(i,\"단입니다.\\n\")\n",
    "\n",
    "gugudan(i)\n",
    "\n"
   ]
  },
  {
   "cell_type": "markdown",
   "metadata": {},
   "source": [
    "### 지역변수와 전역변수\n",
    "- 지역변수 : 함수 내에서만 사용하는 변수local Variable\n",
    "- 전역변수 : 어디서나 적용되는 변수 global Variable"
   ]
  },
  {
   "cell_type": "code",
   "execution_count": 39,
   "metadata": {},
   "outputs": [
    {
     "name": "stdout",
     "output_type": "stream",
     "text": [
      "2\n",
      "1\n"
     ]
    }
   ],
   "source": [
    "x = 1               #전역변수\n",
    "\n",
    "def fun1 ():\n",
    "    x = 2            #지역변수\n",
    "    return x\n",
    "    \n",
    "print (fun1())\n",
    "print(x)"
   ]
  },
  {
   "cell_type": "code",
   "execution_count": 40,
   "metadata": {},
   "outputs": [
    {
     "name": "stdout",
     "output_type": "stream",
     "text": [
      "2\n",
      "2\n"
     ]
    }
   ],
   "source": [
    "a = 1               #전역변수\n",
    "\n",
    "def fun1 ():\n",
    "    global a          #전역변수 a를 함수 내에서 사용\n",
    "    a = 2\n",
    "    return a\n",
    "\n",
    "print(fun1())\n",
    "print(a)"
   ]
  },
  {
   "cell_type": "markdown",
   "metadata": {},
   "source": [
    "### lambda 람다 표현식\n",
    "- 함수를 간단하게 한 줄에 써서 표현\n",
    "- 한 번만 사용할 때 사용\n"
   ]
  },
  {
   "cell_type": "code",
   "execution_count": 41,
   "metadata": {},
   "outputs": [
    {
     "name": "stdout",
     "output_type": "stream",
     "text": [
      "3\n"
     ]
    }
   ],
   "source": [
    "# 람다 사용법\n",
    "더하기 = lambda a, b : a + b\n",
    "a = 더하기 (1,2)\n",
    "print(a)"
   ]
  },
  {
   "cell_type": "code",
   "execution_count": 42,
   "metadata": {},
   "outputs": [
    {
     "name": "stdout",
     "output_type": "stream",
     "text": [
      "1\n",
      "2\n",
      "3\n"
     ]
    }
   ],
   "source": [
    "f = lambda x : x +1\n",
    "for i in range(3):\n",
    "    print(f(i))"
   ]
  },
  {
   "cell_type": "code",
   "execution_count": null,
   "metadata": {},
   "outputs": [],
   "source": []
  }
 ],
 "metadata": {
  "kernelspec": {
   "display_name": "Python 3",
   "language": "python",
   "name": "python3"
  },
  "language_info": {
   "codemirror_mode": {
    "name": "ipython",
    "version": 3
   },
   "file_extension": ".py",
   "mimetype": "text/x-python",
   "name": "python",
   "nbconvert_exporter": "python",
   "pygments_lexer": "ipython3",
   "version": "3.7.6"
  }
 },
 "nbformat": 4,
 "nbformat_minor": 2
}
