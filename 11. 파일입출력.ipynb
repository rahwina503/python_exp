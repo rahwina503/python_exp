{
 "cells": [
  {
   "cell_type": "markdown",
   "metadata": {},
   "source": [
    "## 11. 파일입출력\n",
    "- 간단한 text파일을 읽고 쓸 수 있습니다.\n",
    "- 파일을 쓸 때\n",
    "  - 변수명 = open (\"파일명\", \"w\")\n",
    "- 파일을 읽을 때\n",
    "  - 변수명 = open (\"파일명\", \"r\")"
   ]
  },
  {
   "cell_type": "code",
   "execution_count": null,
   "metadata": {},
   "outputs": [],
   "source": [
    "f = open (\"test1.text\", \"w\")\n",
    "f.write (\"안녕하세요?\\n\")\n",
    "f.write (\"고맙습니다.\")\n",
    "f.close ()"
   ]
  },
  {
   "cell_type": "markdown",
   "metadata": {},
   "source": [
    "###### 잘 열리시나요? 글자가 깨져보이면 , encoding='utf-8'을 추가해보세요."
   ]
  },
  {
   "cell_type": "markdown",
   "metadata": {},
   "source": [
    "#### [실습1] \"w\" 대신 \"a\"를 입력하여 안녕하세요? 다음에 \"반갑습니다\"를 추가해보세요.\n",
    "- 힌트 : 위 파일을 복사해서 사용합니다."
   ]
  },
  {
   "cell_type": "code",
   "execution_count": null,
   "metadata": {},
   "outputs": [],
   "source": [
    "f = open (\"test1.text\", \"a\")\n",
    "f.write (\"\\n반갑습니다.\")\n",
    "f.close ()"
   ]
  },
  {
   "cell_type": "code",
   "execution_count": null,
   "metadata": {},
   "outputs": [],
   "source": [
    "# 화면에서 입력을 받아 파일 쓰기\n",
    "text = input()\n",
    "f = open (\"test2.text\", \"w\")\n",
    "f.write (text)\n",
    "f.close ()"
   ]
  },
  {
   "cell_type": "code",
   "execution_count": null,
   "metadata": {},
   "outputs": [],
   "source": [
    "#바탕화면에 텍스트 파일 생성하고, 반복문 활용해 글쓰기\n",
    "f = open(\"test3.txt\", 'w') \n",
    "for i in range(1, 11):\n",
    "    data = \"%d번째 줄입니다.\\n\" % i\n",
    "    f.write(data)\n",
    "f.close()"
   ]
  },
  {
   "cell_type": "code",
   "execution_count": null,
   "metadata": {},
   "outputs": [],
   "source": [
    "#파일읽기\n",
    "f = open(\"test3.txt\", \"r\")\n",
    "text = f.read()\n",
    "print (text)\n",
    "f.close()\n",
    "\n",
    "#f.read()를 f.read(5)로 바꿔보세요."
   ]
  },
  {
   "cell_type": "code",
   "execution_count": null,
   "metadata": {},
   "outputs": [],
   "source": [
    "# with 구문을 사용하는 방법\n",
    "\n",
    "with open (\"test3.txt\", \"r\") as f:\n",
    "    text = f.read()\n",
    "    print (text)"
   ]
  },
  {
   "cell_type": "code",
   "execution_count": null,
   "metadata": {},
   "outputs": [],
   "source": [
    "#파일복사하기\n",
    "f = open(\"test.text\", \"r\")\n",
    "g = open (\"text_copy.text\", \"w\")\n",
    "\n",
    "data = f.read()\n",
    "g.write(data)\n",
    "\n",
    "f.close()\n",
    "g.close()"
   ]
  },
  {
   "cell_type": "code",
   "execution_count": null,
   "metadata": {},
   "outputs": [],
   "source": [
    "# f.readline()을 이용해 한줄씩 텍스트를 불러올 수 있다. \n",
    "\n",
    "f = open(\"test3.txt\", \"r\")\n",
    "text = f.readline()\n",
    "print (text)\n",
    "f.close()"
   ]
  },
  {
   "cell_type": "code",
   "execution_count": null,
   "metadata": {},
   "outputs": [],
   "source": [
    "# 2번째 줄까지 불러오는 코드\n",
    "# 줄바꿈을 없애기 위해 end=''를 추가함\n",
    "\n",
    "f = open(\"test3.txt\", \"r\")\n",
    "text = f.readline()\n",
    "print (text, end=\"\")\n",
    "text = f.readline()\n",
    "print (text)\n",
    "f.close()"
   ]
  },
  {
   "cell_type": "code",
   "execution_count": null,
   "metadata": {},
   "outputs": [],
   "source": []
  }
 ],
 "metadata": {
  "kernelspec": {
   "display_name": "Python 3",
   "language": "python",
   "name": "python3"
  },
  "language_info": {
   "codemirror_mode": {
    "name": "ipython",
    "version": 3
   },
   "file_extension": ".py",
   "mimetype": "text/x-python",
   "name": "python",
   "nbconvert_exporter": "python",
   "pygments_lexer": "ipython3",
   "version": "3.7.4"
  }
 },
 "nbformat": 4,
 "nbformat_minor": 2
}
