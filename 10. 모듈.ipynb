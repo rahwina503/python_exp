{
 "cells": [
  {
   "cell_type": "markdown",
   "metadata": {},
   "source": [
    "## 10. 모듈\n",
    "- 여러 기능을 한꺼번에 묶어서 사용 (라이브러리, 패키지와 '거의' 같은 의미로 사용)\n",
    "- 모듈을 불러와 사용하는 법\n",
    "  - 1) import 모듈이름\n",
    "  - 2) from 모듈이름 import 모듈함수\n",
    "  - 3) import 모듈이름 as 별명\n",
    "  - 4) from 모듈이름 import *\n",
    "- 아래 random 모듈의 사용 예를 통해 어떻게 쓰이는지 확인해보세요."
   ]
  },
  {
   "cell_type": "code",
   "execution_count": null,
   "metadata": {},
   "outputs": [],
   "source": [
    "import random\n",
    "\n",
    "random.randint(1,10) #1이상 10이하의 임의의 정수 생성"
   ]
  },
  {
   "cell_type": "code",
   "execution_count": null,
   "metadata": {},
   "outputs": [],
   "source": [
    "from random import randint\n",
    "randint(1,10)"
   ]
  },
  {
   "cell_type": "code",
   "execution_count": null,
   "metadata": {},
   "outputs": [],
   "source": [
    "import random as r\n",
    "r.randint(1,10)\n",
    "\n",
    "# import numpy as np\n",
    "# import panda as pd\n",
    "# import tensorflow as tf"
   ]
  },
  {
   "cell_type": "code",
   "execution_count": null,
   "metadata": {},
   "outputs": [],
   "source": [
    "from random import *\n",
    "print (randint(1, 10))\n",
    "print (choice ([\"가위\", \"바위\", \"보\"]))"
   ]
  },
  {
   "cell_type": "code",
   "execution_count": null,
   "metadata": {},
   "outputs": [],
   "source": [
    "r.random() #0이상 1미만의 실수"
   ]
  },
  {
   "cell_type": "code",
   "execution_count": null,
   "metadata": {},
   "outputs": [],
   "source": [
    "r.randrange(1,10) #1이상 10미만의 정수"
   ]
  },
  {
   "cell_type": "code",
   "execution_count": null,
   "metadata": {},
   "outputs": [],
   "source": [
    "# shuffle, choice, sample 활용하기\n",
    "\n",
    "a = list(range(1,10))\n",
    "\n",
    "r.shuffle(a)   #랜덤하게 순서섞기\n",
    "print(a)"
   ]
  },
  {
   "cell_type": "code",
   "execution_count": null,
   "metadata": {},
   "outputs": [],
   "source": [
    "print (r.choice(a))   #랜덤하게 원소 1개 선택\n",
    "print (r.sample(a,3)) #랜덤하게 3개 선택"
   ]
  },
  {
   "cell_type": "markdown",
   "metadata": {},
   "source": [
    "### 로또번호 자동생성 실습"
   ]
  },
  {
   "cell_type": "code",
   "execution_count": null,
   "metadata": {},
   "outputs": [],
   "source": [
    "#1. 1부터 45까지 번호를 리스트로 만든다.\n",
    "lotto_num = list(range(1, 46))\n",
    "print(lotto_num)"
   ]
  },
  {
   "cell_type": "code",
   "execution_count": null,
   "metadata": {},
   "outputs": [],
   "source": [
    "#2. random 모듈을 불러와 sample함수를 이용해 랜덤하게 6개를 선택한다.\n",
    "import random as r\n",
    "lotto = r.sample(lotto_num, 6)\n",
    "print(lotto)"
   ]
  },
  {
   "cell_type": "code",
   "execution_count": null,
   "metadata": {},
   "outputs": [],
   "source": [
    "#3. 오름차순으로 정리\n",
    "lotto.sort()\n",
    "print(\"이번 주 추천번호는: \", lotto)"
   ]
  },
  {
   "cell_type": "markdown",
   "metadata": {},
   "source": [
    "#### [실습1]  게임수를 입력받아 게임수만큼 추천번호를 생성하는 코드를 작성해보세요.\n",
    "- 힌트 : for 반복문을 이용, in range()를 이용해서 완성 \n"
   ]
  },
  {
   "cell_type": "code",
   "execution_count": null,
   "metadata": {},
   "outputs": [],
   "source": [
    "import random as r\n",
    "\n",
    "a = int(input(\"몇 게임을 하시겠습니까? \"))\n",
    "lotto_num = list(range(1, 46))\n",
    "\n",
    "for i in range(a) :\n",
    "    lotto = r.sample (lotto_num, 6)\n",
    "    lotto.sort()\n",
    "    print(lotto)"
   ]
  },
  {
   "cell_type": "code",
   "execution_count": null,
   "metadata": {},
   "outputs": [],
   "source": []
  }
 ],
 "metadata": {
  "kernelspec": {
   "display_name": "Python 3",
   "language": "python",
   "name": "python3"
  },
  "language_info": {
   "codemirror_mode": {
    "name": "ipython",
    "version": 3
   },
   "file_extension": ".py",
   "mimetype": "text/x-python",
   "name": "python",
   "nbconvert_exporter": "python",
   "pygments_lexer": "ipython3",
   "version": "3.7.4"
  }
 },
 "nbformat": 4,
 "nbformat_minor": 2
}
