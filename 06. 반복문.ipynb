{
 "cells": [
  {
   "cell_type": "markdown",
   "metadata": {
    "colab_type": "text",
    "id": "4qDBp69hF16E"
   },
   "source": [
    "## 6. 반복문\n",
    "### 6-1. while문 (조건반복)\n",
    "- while 뒤에 조건을 쓰고 콜론을 붙인다. 예) while <조건식> :\n",
    "- 들여쓰기 후에 참인 경우 명령문을 실행하고\n",
    "- 거짓이면 while문을 빠져나온다.\n"
   ]
  },
  {
   "cell_type": "code",
   "execution_count": null,
   "metadata": {
    "colab": {},
    "colab_type": "code",
    "id": "wCEdpnXGF16G"
   },
   "outputs": [],
   "source": [
    "while 반복할 조건 :\n",
    "    실행할 문장(1)\n",
    "    실행할 문장(1)"
   ]
  },
  {
   "cell_type": "code",
   "execution_count": null,
   "metadata": {
    "colab": {},
    "colab_type": "code",
    "id": "lr6BrDxFF16M"
   },
   "outputs": [],
   "source": [
    "# while 문의 기본 형태\n",
    "\n",
    "i = 0 # 변수선언\n",
    "while i < 10 :          #while 뒤에 조건식\n",
    "    print (i)           #여기까지만 쓰면 무한루프에 빠짐\n",
    "    i = i + 1           #조건의 변경 "
   ]
  },
  {
   "cell_type": "code",
   "execution_count": null,
   "metadata": {
    "colab": {},
    "colab_type": "code",
    "id": "HgUXO-JcF16Q"
   },
   "outputs": [],
   "source": [
    "#연습. 1부터 10까지 모두 더한 값 출력하기\n",
    "\n",
    "i = 1\n",
    "hap = 0 \n",
    "while i < 11 :\n",
    "    hap = hap + i \n",
    "    i = i + 1\n",
    "    print (hap) "
   ]
  },
  {
   "cell_type": "markdown",
   "metadata": {
    "colab_type": "text",
    "id": "whJ3LktoF16V"
   },
   "source": [
    "#### [실습1] 위 코드에서 더한 값 55만 출력되게 수정해보세요.\n",
    "힌트 : print (sum)의 위치를 while과 같은 곳으로 이동. 즉, 들여쓰기를 하지 않아 while문이 다 끝나고 실행되게 함."
   ]
  },
  {
   "cell_type": "code",
   "execution_count": 1,
   "metadata": {
    "colab": {},
    "colab_type": "code",
    "id": "5ls0A-kHF16W"
   },
   "outputs": [
    {
     "name": "stdout",
     "output_type": "stream",
     "text": [
      "55\n"
     ]
    }
   ],
   "source": [
    "i = 1\n",
    "sum = 0 \n",
    "while i < 11 :\n",
    "    sum = sum + i \n",
    "    i = i + 1\n",
    "    \n",
    "print (sum) "
   ]
  },
  {
   "cell_type": "code",
   "execution_count": 2,
   "metadata": {
    "colab": {},
    "colab_type": "code",
    "id": "bAziXeXbF16b"
   },
   "outputs": [
    {
     "name": "stdout",
     "output_type": "stream",
     "text": [
      "비밀번호는: 1256\n",
      "다시 눌러주세요\n",
      "비밀번호는: 1234\n",
      "다시 눌러주세요\n",
      "어서오세요\n"
     ]
    }
   ],
   "source": [
    "#연습. 비밀번호 맞을 때까지 반복\n",
    "\n",
    "pwd = \"0000\"\n",
    "\n",
    "while pwd !=\"1234\" : #!=같지 않다면\n",
    "    pwd = input (\"비밀번호는: \")\n",
    "   # print(\"다시 눌러주세요\")\n",
    "print(\"어서오세요\")    "
   ]
  },
  {
   "cell_type": "markdown",
   "metadata": {
    "colab_type": "text",
    "id": "atAaYaJdF16f"
   },
   "source": [
    "### 6-2. for문\n",
    "\n",
    "- for 뒤에 변수(통상 i를 쓴다)를 적고 in 다음에 문자열, 리스트를 쓰고 콜론(:)으로 사용 \n",
    "- range() 함수와 같이 사용하는 경우가 많다.\n",
    "- 즉, for i in range(범위) : 또는 for i in [리스트]나 문자열 :\n"
   ]
  },
  {
   "cell_type": "code",
   "execution_count": 3,
   "metadata": {
    "colab": {},
    "colab_type": "code",
    "id": "iN6TFHEyF16g"
   },
   "outputs": [
    {
     "name": "stdout",
     "output_type": "stream",
     "text": [
      "0 1 2 3 4 5 6 7 8 9 "
     ]
    }
   ],
   "source": [
    "#range()와 같이 사용\n",
    "\n",
    "for i in range(10): #0부터 9까지 10번 반복 #i는 인수변수, in 뒤에 있는 값들을 순서대로 하나씩 꺼내서 i 에 넣고 계산하다.\n",
    "    print (i, end=' ')"
   ]
  },
  {
   "cell_type": "code",
   "execution_count": null,
   "metadata": {},
   "outputs": [],
   "source": []
  },
  {
   "cell_type": "code",
   "execution_count": 4,
   "metadata": {},
   "outputs": [
    {
     "name": "stdout",
     "output_type": "stream",
     "text": [
      "0 1 2 3 4 5 6 7 8 9 "
     ]
    }
   ],
   "source": [
    "#rang()와 같이 사용\n",
    "for i in range(10): #0부터 9까지 10번반ㅂㄱ\n",
    "    print(i, end=' ')"
   ]
  },
  {
   "cell_type": "code",
   "execution_count": 7,
   "metadata": {
    "colab": {},
    "colab_type": "code",
    "id": "g2F0UpJLF16m"
   },
   "outputs": [
    {
     "name": "stdout",
     "output_type": "stream",
     "text": [
      "0 1 2 3 4 "
     ]
    }
   ],
   "source": [
    "for i in range (0,5) : #0부터 5미만까지반복 = range(5)\n",
    "    print (i, end=' ')"
   ]
  },
  {
   "cell_type": "code",
   "execution_count": 8,
   "metadata": {
    "colab": {},
    "colab_type": "code",
    "id": "5WGlmqyiF16r"
   },
   "outputs": [
    {
     "name": "stdout",
     "output_type": "stream",
     "text": [
      "1 3 5 7 9 "
     ]
    }
   ],
   "source": [
    "for i in range (1,10,2): #1부터 10미만까지 2씩 증가하며 반복\n",
    "    print (i, end=' ')"
   ]
  },
  {
   "cell_type": "code",
   "execution_count": 12,
   "metadata": {
    "colab": {},
    "colab_type": "code",
    "id": "a8PD_xGKF16v"
   },
   "outputs": [
    {
     "data": {
      "text/plain": [
       "list"
      ]
     },
     "execution_count": 12,
     "metadata": {},
     "output_type": "execute_result"
    }
   ],
   "source": [
    "#list()함수와 range()함수\n",
    "aa=list(range(1,10,2))\n",
    "type(aa)"
   ]
  },
  {
   "cell_type": "code",
   "execution_count": 13,
   "metadata": {
    "colab": {},
    "colab_type": "code",
    "id": "dc2GpUxRF160",
    "scrolled": true
   },
   "outputs": [
    {
     "name": "stdout",
     "output_type": "stream",
     "text": [
      "10 9 8 7 6 5 4 3 2 1 "
     ]
    }
   ],
   "source": [
    "for i in range (10,0,-1): # 10부터 0 전까지 1씩 감소하며 반복\n",
    "    print (i, end=' ')"
   ]
  },
  {
   "cell_type": "code",
   "execution_count": 14,
   "metadata": {
    "colab": {},
    "colab_type": "code",
    "id": "wiK_a5otF165"
   },
   "outputs": [
    {
     "name": "stdout",
     "output_type": "stream",
     "text": [
      "hello\n",
      "hello\n",
      "hello\n",
      "hello\n",
      "hello\n"
     ]
    }
   ],
   "source": [
    "for i in range (5) :\n",
    "    print (\"hello\")"
   ]
  },
  {
   "cell_type": "code",
   "execution_count": 15,
   "metadata": {
    "colab": {},
    "colab_type": "code",
    "id": "GAQatvSTF16-"
   },
   "outputs": [
    {
     "name": "stdout",
     "output_type": "stream",
     "text": [
      "0 hello\n",
      "1 hello\n",
      "2 hello\n",
      "3 hello\n",
      "4 hello\n"
     ]
    }
   ],
   "source": [
    "#i와 함께 출력\n",
    "for i in range (5) :\n",
    "    print (i, \"hello\")"
   ]
  },
  {
   "cell_type": "code",
   "execution_count": 16,
   "metadata": {
    "colab": {},
    "colab_type": "code",
    "id": "7mN79Ta3F17C"
   },
   "outputs": [
    {
     "name": "stdout",
     "output_type": "stream",
     "text": [
      "P\n",
      "y\n",
      "t\n",
      "h\n",
      "o\n",
      "n\n"
     ]
    }
   ],
   "source": [
    "#문자열과 같이 사용\n",
    "for letter in \"Python\":\n",
    "    print(letter)"
   ]
  },
  {
   "cell_type": "code",
   "execution_count": 17,
   "metadata": {
    "colab": {},
    "colab_type": "code",
    "id": "iCem4CgEF17G"
   },
   "outputs": [
    {
     "name": "stdout",
     "output_type": "stream",
     "text": [
      "제니\n",
      "지수\n",
      "로제\n",
      "리사\n"
     ]
    }
   ],
   "source": [
    "# 리스트와 같이 사용\n",
    "\n",
    "blackpink = [\"제니\", \"지수\", \"로제\", \"리사\"]\n",
    "for member in blackpink :\n",
    "    print (member)"
   ]
  },
  {
   "cell_type": "markdown",
   "metadata": {
    "colab_type": "text",
    "id": "FmJV8c0DF17J"
   },
   "source": [
    "#### [실습2] 위 코드를 수정하여 멤버 수도 출력하게 하려면?\n",
    "\n",
    "- 힌트: count 변수를 만든 후, member가 하나씩 출력되면서 반복되는 동안 count도 1씩 증가하게 한다. \n",
    "    - 아래 코드를 완성\n"
   ]
  },
  {
   "cell_type": "code",
   "execution_count": 20,
   "metadata": {
    "colab": {},
    "colab_type": "code",
    "id": "nIqGh0xJF17K"
   },
   "outputs": [
    {
     "name": "stdout",
     "output_type": "stream",
     "text": [
      "제니\n",
      "지수\n",
      "로제\n",
      "리사\n",
      "멤버수는: 4\n"
     ]
    }
   ],
   "source": [
    "blackpink = [\"제니\", \"지수\", \"로제\", \"리사\"]\n",
    "count = 0  \n",
    "for member in blackpink :\n",
    "    print (member)\n",
    "    count += 1  \n",
    "print (\"멤버수는: %d\" % count)"
   ]
  },
  {
   "cell_type": "code",
   "execution_count": 21,
   "metadata": {
    "colab": {},
    "colab_type": "code",
    "id": "FOaVw_7qF17O"
   },
   "outputs": [
    {
     "name": "stdout",
     "output_type": "stream",
     "text": [
      "1번 과목은 D입니다.\n",
      "2번 과목은 C입니다.\n",
      "3번 과목은 A입니다.\n",
      "4번 과목은 B입니다.\n"
     ]
    }
   ],
   "source": [
    "# 리스트, 조건문과 같이 사용\n",
    "score= [55, 70, 92, 88]\n",
    "\n",
    "number = 0 #number 변수 0으로 지정\n",
    "for i in score: \n",
    "    number = number +1 \n",
    "    if i >= 90: \n",
    "        print(\"%d번 과목은 A입니다.\" % number)\n",
    "    elif i>=80:\n",
    "        print(\"%d번 과목은 B입니다.\" % number)\n",
    "    elif i>=70:\n",
    "        print(\"%d번 과목은 C입니다.\" % number)\n",
    "    else: \n",
    "        print(\"%d번 과목은 D입니다.\" % number)"
   ]
  },
  {
   "cell_type": "code",
   "execution_count": 22,
   "metadata": {
    "colab": {},
    "colab_type": "code",
    "id": "KdZp94ouF17R"
   },
   "outputs": [
    {
     "name": "stdout",
     "output_type": "stream",
     "text": [
      "제니\n",
      "제\n",
      "니\n",
      "지수\n",
      "지\n",
      "수\n",
      "로제\n",
      "로\n",
      "제\n",
      "리사\n",
      "리\n",
      "사\n"
     ]
    }
   ],
   "source": [
    "#다중 for문\n",
    "\n",
    "blackpink = [\"제니\", \"지수\", \"로제\", \"리사\"]\n",
    "for member in blackpink :\n",
    "    print (member)\n",
    "    for name in member:\n",
    "        print (name)"
   ]
  },
  {
   "cell_type": "code",
   "execution_count": 23,
   "metadata": {
    "colab": {},
    "colab_type": "code",
    "id": "zmflenhwF17X"
   },
   "outputs": [
    {
     "name": "stdout",
     "output_type": "stream",
     "text": [
      "2 * 1 = 2\n",
      "2 * 2 = 4\n",
      "2 * 3 = 6\n",
      "2 * 4 = 8\n",
      "2 * 5 = 10\n",
      "2 * 6 = 12\n",
      "2 * 7 = 14\n",
      "2 * 8 = 16\n",
      "2 * 9 = 18\n",
      "3 * 1 = 3\n",
      "3 * 2 = 6\n",
      "3 * 3 = 9\n",
      "3 * 4 = 12\n",
      "3 * 5 = 15\n",
      "3 * 6 = 18\n",
      "3 * 7 = 21\n",
      "3 * 8 = 24\n",
      "3 * 9 = 27\n",
      "4 * 1 = 4\n",
      "4 * 2 = 8\n",
      "4 * 3 = 12\n",
      "4 * 4 = 16\n",
      "4 * 5 = 20\n",
      "4 * 6 = 24\n",
      "4 * 7 = 28\n",
      "4 * 8 = 32\n",
      "4 * 9 = 36\n",
      "5 * 1 = 5\n",
      "5 * 2 = 10\n",
      "5 * 3 = 15\n",
      "5 * 4 = 20\n",
      "5 * 5 = 25\n",
      "5 * 6 = 30\n",
      "5 * 7 = 35\n",
      "5 * 8 = 40\n",
      "5 * 9 = 45\n",
      "6 * 1 = 6\n",
      "6 * 2 = 12\n",
      "6 * 3 = 18\n",
      "6 * 4 = 24\n",
      "6 * 5 = 30\n",
      "6 * 6 = 36\n",
      "6 * 7 = 42\n",
      "6 * 8 = 48\n",
      "6 * 9 = 54\n",
      "7 * 1 = 7\n",
      "7 * 2 = 14\n",
      "7 * 3 = 21\n",
      "7 * 4 = 28\n",
      "7 * 5 = 35\n",
      "7 * 6 = 42\n",
      "7 * 7 = 49\n",
      "7 * 8 = 56\n",
      "7 * 9 = 63\n",
      "8 * 1 = 8\n",
      "8 * 2 = 16\n",
      "8 * 3 = 24\n",
      "8 * 4 = 32\n",
      "8 * 5 = 40\n",
      "8 * 6 = 48\n",
      "8 * 7 = 56\n",
      "8 * 8 = 64\n",
      "8 * 9 = 72\n",
      "9 * 1 = 9\n",
      "9 * 2 = 18\n",
      "9 * 3 = 27\n",
      "9 * 4 = 36\n",
      "9 * 5 = 45\n",
      "9 * 6 = 54\n",
      "9 * 7 = 63\n",
      "9 * 8 = 72\n",
      "9 * 9 = 81\n"
     ]
    }
   ],
   "source": [
    "#구구단\n",
    "\n",
    "for i in range (2,10,1):                   #2부터 9까지 반복 1씩증가\n",
    "    for j in range (1,10,1):               #1부터 9까지 반복 1씩증가\n",
    "        print(i, \"*\", j, \"=\",i*j) "
   ]
  },
  {
   "cell_type": "markdown",
   "metadata": {
    "colab_type": "text",
    "id": "D-8vJGu0F17a"
   },
   "source": [
    "#### [실습3] 위 구구단 코드를 수정하여 각 단이 끝날 때마다 *로 가로줄을 그어 구분이 되도록 해보세요.\n",
    " - 힌트 :  j가 9가 되면 \"*\"을 10번 곱하여 출력하게 한다. \n",
    " - if j == 9 : , print (\"*\"*10)"
   ]
  },
  {
   "cell_type": "code",
   "execution_count": 25,
   "metadata": {
    "colab": {},
    "colab_type": "code",
    "id": "CJr-0ylYF17b"
   },
   "outputs": [
    {
     "name": "stdout",
     "output_type": "stream",
     "text": [
      "2 * 1 = 2\n",
      "2 * 2 = 4\n",
      "2 * 3 = 6\n",
      "2 * 4 = 8\n",
      "2 * 5 = 10\n",
      "2 * 6 = 12\n",
      "2 * 7 = 14\n",
      "2 * 8 = 16\n",
      "2 * 9 = 18\n",
      "**********\n",
      "3 * 1 = 3\n",
      "3 * 2 = 6\n",
      "3 * 3 = 9\n",
      "3 * 4 = 12\n",
      "3 * 5 = 15\n",
      "3 * 6 = 18\n",
      "3 * 7 = 21\n",
      "3 * 8 = 24\n",
      "3 * 9 = 27\n",
      "**********\n",
      "4 * 1 = 4\n",
      "4 * 2 = 8\n",
      "4 * 3 = 12\n",
      "4 * 4 = 16\n",
      "4 * 5 = 20\n",
      "4 * 6 = 24\n",
      "4 * 7 = 28\n",
      "4 * 8 = 32\n",
      "4 * 9 = 36\n",
      "**********\n",
      "5 * 1 = 5\n",
      "5 * 2 = 10\n",
      "5 * 3 = 15\n",
      "5 * 4 = 20\n",
      "5 * 5 = 25\n",
      "5 * 6 = 30\n",
      "5 * 7 = 35\n",
      "5 * 8 = 40\n",
      "5 * 9 = 45\n",
      "**********\n",
      "6 * 1 = 6\n",
      "6 * 2 = 12\n",
      "6 * 3 = 18\n",
      "6 * 4 = 24\n",
      "6 * 5 = 30\n",
      "6 * 6 = 36\n",
      "6 * 7 = 42\n",
      "6 * 8 = 48\n",
      "6 * 9 = 54\n",
      "**********\n",
      "7 * 1 = 7\n",
      "7 * 2 = 14\n",
      "7 * 3 = 21\n",
      "7 * 4 = 28\n",
      "7 * 5 = 35\n",
      "7 * 6 = 42\n",
      "7 * 7 = 49\n",
      "7 * 8 = 56\n",
      "7 * 9 = 63\n",
      "**********\n",
      "8 * 1 = 8\n",
      "8 * 2 = 16\n",
      "8 * 3 = 24\n",
      "8 * 4 = 32\n",
      "8 * 5 = 40\n",
      "8 * 6 = 48\n",
      "8 * 7 = 56\n",
      "8 * 8 = 64\n",
      "8 * 9 = 72\n",
      "**********\n",
      "9 * 1 = 9\n",
      "9 * 2 = 18\n",
      "9 * 3 = 27\n",
      "9 * 4 = 36\n",
      "9 * 5 = 45\n",
      "9 * 6 = 54\n",
      "9 * 7 = 63\n",
      "9 * 8 = 72\n",
      "9 * 9 = 81\n",
      "**********\n"
     ]
    }
   ],
   "source": [
    "for i in range(2,10,1):\n",
    "    for j in range(1,10,1):\n",
    "        print(i,\"*\",j,\"=\",i*j)\n",
    "        if j==9:\n",
    "            print(\"*\"*10)"
   ]
  },
  {
   "cell_type": "markdown",
   "metadata": {
    "colab_type": "text",
    "id": "74evrfzDF17f"
   },
   "source": [
    "#### break : 조건에 만족하면 (아무 것도 하지 말고) 반복문에서 빠져 나와라\n",
    "#### continue : 조건에 만족하면 (아무 것도 하지 말고) 반복문의 처음으로 다시 돌아가서 반복해라"
   ]
  },
  {
   "cell_type": "code",
   "execution_count": null,
   "metadata": {
    "colab": {},
    "colab_type": "code",
    "id": "XdDMSTYkF17g"
   },
   "outputs": [],
   "source": [
    "i = 0 # 변수선언\n",
    "while i < 10 :          #while 뒤에 조건식\n",
    "    print (i)           #여기까지만 쓰면 무한루프에 빠짐\n",
    "    i = i + 1           #조건의 변경 i+=1"
   ]
  },
  {
   "cell_type": "code",
   "execution_count": null,
   "metadata": {
    "colab": {},
    "colab_type": "code",
    "id": "8-L7oHCXF17j"
   },
   "outputs": [],
   "source": [
    "# 위의 식을 break를 써서 표현\n",
    "i = 0\n",
    "while True : #무한루프\n",
    "    print(i)\n",
    "    i = i +1\n",
    "    if i >= 10:\n",
    "        break"
   ]
  },
  {
   "cell_type": "code",
   "execution_count": null,
   "metadata": {
    "colab": {},
    "colab_type": "code",
    "id": "PQG0s4yTF17n"
   },
   "outputs": [],
   "source": [
    "#for와 break를 써서 1부터 9까지 차례대로 출력하는 코드\n",
    "\n",
    "for i in range (1, 100):\n",
    "    print(i)\n",
    "    break"
   ]
  },
  {
   "cell_type": "code",
   "execution_count": null,
   "metadata": {
    "colab": {},
    "colab_type": "code",
    "id": "gVojF4VXF17q"
   },
   "outputs": [],
   "source": [
    "#1부터 9사이의 짝수를 출력하는 코드\n",
    "for i in range (1, 10):\n",
    "    if i % 2 == 0 :\n",
    "        print(i)"
   ]
  },
  {
   "cell_type": "code",
   "execution_count": null,
   "metadata": {
    "colab": {},
    "colab_type": "code",
    "id": "Uu1a8GsKF17t"
   },
   "outputs": [],
   "source": [
    "#continue를 사용해서 1부터 9사이의 짝수를 출력하는 코드를 작성해보세요. \n",
    "for i in range (1, 10):\n",
    "    if i % 2 != 0 :\n",
    "        continue\n",
    "    print(i)"
   ]
  },
  {
   "cell_type": "code",
   "execution_count": null,
   "metadata": {
    "colab": {},
    "colab_type": "code",
    "id": "ToCdvGr2F17w"
   },
   "outputs": [],
   "source": [
    "ReVe = [\"아이린\", \"슬기\", \"웬디\", \"조이\", \"예리\"]\n",
    "i  = 0 \n",
    "while i < 4 :\n",
    "    print(ReVe[i]) \n",
    "    i = i + 1"
   ]
  },
  {
   "cell_type": "markdown",
   "metadata": {
    "colab_type": "text",
    "id": "VPPEPqPLF172"
   },
   "source": [
    "#### [실습4] \n",
    "1. 리스트 x = [2,4,6,8]를 만든다.\n",
    "2. 변수 mx를 만들어 x의 평균값을 대입한다.\n",
    "3. 변수 divisor에는 (x-x평균)^2의 합을 대입한다. sum()함수를 활용해 요소들의 합을 구할 수 있다. ![image.png](attachment:image.png)\n",
    "4. sum([])은 평균 mx에서 x에 있는 원소들(i)을 하나씩 뺀 값을 제곱한 후 모두 더하는 식이다. sum([(mx-i)**2] for i in x])\n",
    "5. divisor값을 출력한다. "
   ]
  },
  {
   "cell_type": "code",
   "execution_count": null,
   "metadata": {
    "colab": {},
    "colab_type": "code",
    "id": "pYlpHu5GF173"
   },
   "outputs": [],
   "source": [
    "x = [2,4,6,8]\n",
    "mx = (2+4+6+8) / 4\n",
    "print(mx)\n",
    "divisor = sum([(mx - i)**2 for i in x])\n",
    "print (divisor)"
   ]
  },
  {
   "cell_type": "markdown",
   "metadata": {
    "colab_type": "text",
    "id": "aCFfqwc2F176"
   },
   "source": [
    "### list comprehension\n",
    "- 리스트 안에 조건, 반복식을 한꺼번에 표현할 수 있어 간편하다.\n",
    "- [표현식 for 변수 in 리스트이름] 같은 형식으로 사용"
   ]
  },
  {
   "cell_type": "code",
   "execution_count": null,
   "metadata": {
    "colab": {},
    "colab_type": "code",
    "id": "Kz7UElvXF177"
   },
   "outputs": [],
   "source": [
    "bprv = [[\"제니\",\"아이린\"],[\"로제\",\"웬디\"],[\"리사\",\"슬기\"],[\"지수\",\"조이\"]]\n",
    "\n",
    "bp = [i[0] for i in bprv]\n",
    "rv = [i[1] for i in bprv]\n",
    "\n",
    "print(bp)\n",
    "print(rv)"
   ]
  },
  {
   "cell_type": "code",
   "execution_count": null,
   "metadata": {
    "colab": {
     "base_uri": "https://localhost:8080/",
     "height": 54
    },
    "colab_type": "code",
    "executionInfo": {
     "elapsed": 1213,
     "status": "ok",
     "timestamp": 1595162491044,
     "user": {
      "displayName": "Jay Gil코딩교양스쿨",
      "photoUrl": "https://lh3.googleusercontent.com/a-/AOh14GjoPdf7Y46IMrWQyFGWhNtfQi17ny21c127vMWlZw=s64",
      "userId": "00479002118889490588"
     },
     "user_tz": -540
    },
    "id": "2Mxq5veXF17_",
    "outputId": "22196b3f-5132-4e88-fb1c-9eff926c66cd"
   },
   "outputs": [],
   "source": [
    "구구단 = [i*j for i in range(2,10) for j in range(1,10)]\n",
    "print(구구단)"
   ]
  },
  {
   "cell_type": "code",
   "execution_count": null,
   "metadata": {
    "colab": {},
    "colab_type": "code",
    "id": "anyLUR8jF18D"
   },
   "outputs": [],
   "source": [
    "# for문 뒤에 if 조건문을 추가할 수도 있다.\n",
    "\n",
    "a = [[1,11],[2,22],[3,33],[4,44],[5,55]]\n",
    "x = [i[0] for i in a if i[0] > 3]\n",
    "y = [i[1] for i in a if i[1] % 2 != 0]\n",
    "\n",
    "print(x)\n",
    "print(y)"
   ]
  },
  {
   "cell_type": "code",
   "execution_count": null,
   "metadata": {
    "colab": {},
    "colab_type": "code",
    "id": "wqL6uWqyF18H"
   },
   "outputs": [],
   "source": []
  }
 ],
 "metadata": {
  "colab": {
   "name": "06. 반복문.ipynb",
   "provenance": []
  },
  "kernelspec": {
   "display_name": "Python 3",
   "language": "python",
   "name": "python3"
  },
  "language_info": {
   "codemirror_mode": {
    "name": "ipython",
    "version": 3
   },
   "file_extension": ".py",
   "mimetype": "text/x-python",
   "name": "python",
   "nbconvert_exporter": "python",
   "pygments_lexer": "ipython3",
   "version": "3.7.6"
  }
 },
 "nbformat": 4,
 "nbformat_minor": 1
}
