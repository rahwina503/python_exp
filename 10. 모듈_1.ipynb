{
 "cells": [
  {
   "cell_type": "markdown",
   "metadata": {},
   "source": [
    "## 10. 모듈\n",
    "- 여러 기능을 한꺼번에 묶어서 사용 (라이브러리, 패키지와 '거의' 같은 의미로 사용)\n",
    "- 모듈을 불러와 사용하는 법\n",
    "  - 1) import 모듈이름\n",
    "  - 2) from 모듈이름 import 모듈함수\n",
    "  - 3) import 모듈이름 as 별명\n",
    "  - 4) from 모듈이름 import * # * 모든걸 다 불러온다.\n",
    "- 아래 random 모듈의 사용 예를 통해 어떻게 쓰이는지 확인해보세요."
   ]
  },
  {
   "cell_type": "code",
   "execution_count": 9,
   "metadata": {},
   "outputs": [
    {
     "data": {
      "text/plain": [
       "9"
      ]
     },
     "execution_count": 9,
     "metadata": {},
     "output_type": "execute_result"
    }
   ],
   "source": [
    "import random\n",
    "\n",
    "random.randint(1,10) #1이상 10이하의 임의의 정수 생성"
   ]
  },
  {
   "cell_type": "code",
   "execution_count": 10,
   "metadata": {},
   "outputs": [
    {
     "data": {
      "text/plain": [
       "6"
      ]
     },
     "execution_count": 10,
     "metadata": {},
     "output_type": "execute_result"
    }
   ],
   "source": [
    "from random import randint\n",
    "from random import randrange\n",
    "\n",
    "randint(1,10)\n"
   ]
  },
  {
   "cell_type": "code",
   "execution_count": 11,
   "metadata": {},
   "outputs": [
    {
     "data": {
      "text/plain": [
       "8"
      ]
     },
     "execution_count": 11,
     "metadata": {},
     "output_type": "execute_result"
    }
   ],
   "source": [
    "import random as r\n",
    "r.randint(1,10)\n",
    "\n",
    "# import numpy as np\n",
    "# import panda as pd\n",
    "# import tensorflow as tf\n"
   ]
  },
  {
   "cell_type": "code",
   "execution_count": 12,
   "metadata": {},
   "outputs": [
    {
     "name": "stdout",
     "output_type": "stream",
     "text": [
      "9\n",
      "가위\n"
     ]
    }
   ],
   "source": [
    "from random import *\n",
    "print (randint(1, 10))\n",
    "print (choice ([\"가위\", \"바위\", \"보\"]))"
   ]
  },
  {
   "cell_type": "code",
   "execution_count": 14,
   "metadata": {},
   "outputs": [
    {
     "data": {
      "text/plain": [
       "0.22799591138849506"
      ]
     },
     "execution_count": 14,
     "metadata": {},
     "output_type": "execute_result"
    }
   ],
   "source": [
    "import random as r\n",
    "r.random() #0이상 1미만의 실수"
   ]
  },
  {
   "cell_type": "code",
   "execution_count": 15,
   "metadata": {},
   "outputs": [
    {
     "data": {
      "text/plain": [
       "9"
      ]
     },
     "execution_count": 15,
     "metadata": {},
     "output_type": "execute_result"
    }
   ],
   "source": [
    "r.randrange(1,10) #1이상 10미만의 정수"
   ]
  },
  {
   "cell_type": "code",
   "execution_count": 16,
   "metadata": {},
   "outputs": [
    {
     "name": "stdout",
     "output_type": "stream",
     "text": [
      "[4, 8, 2, 7, 9, 3, 5, 6, 1]\n"
     ]
    }
   ],
   "source": [
    "# shuffle, choice, sample 활용하기\n",
    "\n",
    "a = list(range(1,10))\n",
    "\n",
    "r.shuffle(a)   #랜덤하게 순서섞기\n",
    "print(a)"
   ]
  },
  {
   "cell_type": "code",
   "execution_count": 19,
   "metadata": {},
   "outputs": [
    {
     "name": "stdout",
     "output_type": "stream",
     "text": [
      "5\n",
      "[5, 8, 7, 2, 9]\n"
     ]
    }
   ],
   "source": [
    "print (r.choice(a))   #랜덤하게 원소 1개 선택\n",
    "print (r.sample(a,5)) #랜덤하게 3개 선택"
   ]
  },
  {
   "cell_type": "markdown",
   "metadata": {},
   "source": [
    "### 로또번호 자동생성 실습"
   ]
  },
  {
   "cell_type": "code",
   "execution_count": 20,
   "metadata": {},
   "outputs": [
    {
     "name": "stdout",
     "output_type": "stream",
     "text": [
      "[1, 2, 3, 4, 5, 6, 7, 8, 9, 10, 11, 12, 13, 14, 15, 16, 17, 18, 19, 20, 21, 22, 23, 24, 25, 26, 27, 28, 29, 30, 31, 32, 33, 34, 35, 36, 37, 38, 39, 40, 41, 42, 43, 44, 45]\n"
     ]
    }
   ],
   "source": [
    "#1. 1부터 45까지 번호를 리스트로 만든다.\n",
    "lotto_num = list(range(1, 46))\n",
    "print(lotto_num)"
   ]
  },
  {
   "cell_type": "code",
   "execution_count": 21,
   "metadata": {},
   "outputs": [
    {
     "name": "stdout",
     "output_type": "stream",
     "text": [
      "[6, 38, 30, 28, 29, 37]\n"
     ]
    }
   ],
   "source": [
    "#2. random 모듈을 불러와 sample함수를 이용해 랜덤하게 6개를 선택한다.\n",
    "import random as r\n",
    "lotto = r.sample(lotto_num, 6)\n",
    "print(lotto)"
   ]
  },
  {
   "cell_type": "code",
   "execution_count": 22,
   "metadata": {},
   "outputs": [
    {
     "name": "stdout",
     "output_type": "stream",
     "text": [
      "이번 주 추천번호는:  [6, 28, 29, 30, 37, 38]\n"
     ]
    }
   ],
   "source": [
    "#3. 오름차순으로 정리\n",
    "lotto.sort()\n",
    "print(\"이번 주 추천번호는: \", lotto)"
   ]
  },
  {
   "cell_type": "markdown",
   "metadata": {},
   "source": [
    "#### [실습1]  게임수를 입력받아 게임수만큼 추천번호를 생성하는 코드를 작성해보세요.\n",
    "- 힌트 : for 반복문을 이용, in range()를 이용해서 완성 \n"
   ]
  },
  {
   "cell_type": "code",
   "execution_count": 24,
   "metadata": {},
   "outputs": [
    {
     "name": "stdout",
     "output_type": "stream",
     "text": [
      "몇 게임을 하시겠습니까? 5\n",
      "[8, 17, 19, 28, 38, 41]\n",
      "[13, 14, 21, 22, 26, 31]\n",
      "[6, 20, 25, 31, 35, 45]\n",
      "[2, 4, 18, 24, 25, 42]\n",
      "[4, 7, 10, 24, 32, 45]\n"
     ]
    }
   ],
   "source": [
    "\n",
    "import random as r\n",
    "\n",
    "a = int(input(\"몇 게임을 하시겠습니까? \"))\n",
    "lotto_num = list(range(1, 46))\n",
    "\n",
    "for i in range(a) :\n",
    "    lotto = r.sample (lotto_num, 6)\n",
    "    lotto.sort()\n",
    "    print(lotto)"
   ]
  },
  {
   "cell_type": "code",
   "execution_count": 27,
   "metadata": {},
   "outputs": [
    {
     "name": "stdout",
     "output_type": "stream",
     "text": [
      "몇 게임을 하시겠습니까?4\n",
      "[6, 17, 25, 26, 35, 39]\n",
      "[2, 5, 9, 13, 25, 29]\n",
      "[4, 5, 16, 32, 35, 39]\n",
      "[6, 13, 18, 19, 32, 36]\n"
     ]
    }
   ],
   "source": [
    "import random as r\n",
    "\n",
    "a=int(input(\"몇 게임을 하시겠습니까?\"))\n",
    "lotto_num=list(range(1,46))\n",
    "\n",
    "for i in range(a):\n",
    "    lotto=r.sample(lotto_num,6)\n",
    "    lotto.sort()\n",
    "    print(lotto)"
   ]
  },
  {
   "cell_type": "code",
   "execution_count": null,
   "metadata": {},
   "outputs": [],
   "source": []
  }
 ],
 "metadata": {
  "kernelspec": {
   "display_name": "Python 3",
   "language": "python",
   "name": "python3"
  },
  "language_info": {
   "codemirror_mode": {
    "name": "ipython",
    "version": 3
   },
   "file_extension": ".py",
   "mimetype": "text/x-python",
   "name": "python",
   "nbconvert_exporter": "python",
   "pygments_lexer": "ipython3",
   "version": "3.7.6"
  }
 },
 "nbformat": 4,
 "nbformat_minor": 2
}
